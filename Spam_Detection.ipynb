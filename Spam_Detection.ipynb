{
  "nbformat": 4,
  "nbformat_minor": 0,
  "metadata": {
    "colab": {
      "provenance": []
    },
    "kernelspec": {
      "name": "python3",
      "display_name": "Python 3"
    },
    "language_info": {
      "name": "python"
    }
  },
  "cells": [
    {
      "cell_type": "code",
      "metadata": {
        "id": "CuLTKUtDkeNy",
        "colab": {
          "base_uri": "https://localhost:8080/"
        },
        "outputId": "56893856-9d54-41e2-a17e-e1a0db518ed9"
      },
      "source": [
        "# Importing essential libraries\n",
        "import numpy as np\n",
        "import pandas as pd\n",
        "import math\n",
        "from google.colab import drive\n",
        "drive.mount('/content/drive')\n",
        "%pip install nltk\n",
        "import nltk\n",
        "nltk.download('punkt')\n",
        "from nltk.tokenize import sent_tokenize, word_tokenize\n",
        "from nltk.util import ngrams, bigrams, trigrams\n",
        "from nltk.probability import FreqDist"
      ],
      "execution_count": null,
      "outputs": [
        {
          "output_type": "stream",
          "name": "stdout",
          "text": [
            "Drive already mounted at /content/drive; to attempt to forcibly remount, call drive.mount(\"/content/drive\", force_remount=True).\n",
            "Looking in indexes: https://pypi.org/simple, https://us-python.pkg.dev/colab-wheels/public/simple/\n",
            "Requirement already satisfied: nltk in /usr/local/lib/python3.7/dist-packages (3.7)\n",
            "Requirement already satisfied: regex>=2021.8.3 in /usr/local/lib/python3.7/dist-packages (from nltk) (2022.6.2)\n",
            "Requirement already satisfied: joblib in /usr/local/lib/python3.7/dist-packages (from nltk) (1.2.0)\n",
            "Requirement already satisfied: click in /usr/local/lib/python3.7/dist-packages (from nltk) (7.1.2)\n",
            "Requirement already satisfied: tqdm in /usr/local/lib/python3.7/dist-packages (from nltk) (4.64.1)\n"
          ]
        },
        {
          "output_type": "stream",
          "name": "stderr",
          "text": [
            "[nltk_data] Downloading package punkt to /root/nltk_data...\n",
            "[nltk_data]   Package punkt is already up-to-date!\n"
          ]
        }
      ]
    },
    {
      "cell_type": "code",
      "metadata": {
        "id": "-JugX3xqksdz"
      },
      "source": [
        "# Loading the dataset\n",
        "df = pd.read_csv(\"/content/drive/MyDrive/Spam_SMS_Dataset.txt\", sep='\\t', names=['label', 'message'])\n",
        "ill_df = pd.read_csv(\"/content/drive/MyDrive/names_data.csv\")\n",
        "dialogue_string = open(\"/content/drive/MyDrive/dialogue_data.txt\", \"r\", encoding=\"utf-8\")"
      ],
      "execution_count": null,
      "outputs": []
    },
    {
      "cell_type": "markdown",
      "source": [
        "# **Exploratory Data Analysis (EDA) for Clean Dataset**\n",
        "* Exploring total number of word and sentences\n",
        "* Exploring unique number of word\n",
        "* Plotting frequncy distribution for unigram and bigram"
      ],
      "metadata": {
        "id": "58qvvwkarSIS"
      }
    },
    {
      "cell_type": "code",
      "source": [
        "count = 0\n",
        "N = 10000\n",
        "text = \"\"\n",
        "\n",
        "for line in dialogue_string:\n",
        "    text += line\n",
        "    count = count + 1\n",
        "    if count == N: break\n",
        "\n",
        "senToken = sent_tokenize(text)\n",
        "wordToken = word_tokenize(text)\n",
        "\n",
        "tokens = ngrams(wordToken,1)\n",
        "fd_uni = FreqDist(tokens)\n",
        "\n",
        "Bigram = list(nltk.bigrams(wordToken))\n",
        "fd_bi = FreqDist(bigrams(wordToken)) "
      ],
      "metadata": {
        "id": "FXOsIkyprbeO"
      },
      "execution_count": null,
      "outputs": []
    },
    {
      "cell_type": "code",
      "source": [
        "#Total number of words \n",
        "print(len(wordToken))"
      ],
      "metadata": {
        "colab": {
          "base_uri": "https://localhost:8080/"
        },
        "id": "W9sDbBQTrydt",
        "outputId": "8344c4bb-cc9a-4cc6-bd5a-060119a96066"
      },
      "execution_count": null,
      "outputs": [
        {
          "output_type": "stream",
          "name": "stdout",
          "text": [
            "139538\n"
          ]
        }
      ]
    },
    {
      "cell_type": "code",
      "source": [
        "#Total number of unique words\n",
        "print(fd_uni.B())"
      ],
      "metadata": {
        "colab": {
          "base_uri": "https://localhost:8080/"
        },
        "id": "c4ibxeGvsUzT",
        "outputId": "fe464d64-8f23-4e02-8d21-2f00f449b2a3"
      },
      "execution_count": null,
      "outputs": [
        {
          "output_type": "stream",
          "name": "stdout",
          "text": [
            "10563\n"
          ]
        }
      ]
    },
    {
      "cell_type": "code",
      "source": [
        "#Total number of sentences\n",
        "print(len(senToken))"
      ],
      "metadata": {
        "colab": {
          "base_uri": "https://localhost:8080/"
        },
        "id": "QmpbZuCs0J-4",
        "outputId": "90da3fe7-6c1c-4591-8231-9f2744f1c13f"
      },
      "execution_count": null,
      "outputs": [
        {
          "output_type": "stream",
          "name": "stdout",
          "text": [
            "15944\n"
          ]
        }
      ]
    },
    {
      "cell_type": "code",
      "source": [
        "#5 most occured word\n",
        "print(fd_uni.most_common(5))"
      ],
      "metadata": {
        "colab": {
          "base_uri": "https://localhost:8080/"
        },
        "id": "rChLHFimsnyu",
        "outputId": "f670b4e1-8123-45e4-8994-9090fe8fba83"
      },
      "execution_count": null,
      "outputs": [
        {
          "output_type": "stream",
          "name": "stdout",
          "text": [
            "[(('.',), 10678), ((',',), 5500), (('I',), 4424), (('you',), 3710), (('?',), 3646)]\n"
          ]
        }
      ]
    },
    {
      "cell_type": "code",
      "source": [
        "#Plotting frequency distribution for unigram\n",
        "fd_uni.plot(30,cumulative=False)"
      ],
      "metadata": {
        "colab": {
          "base_uri": "https://localhost:8080/"
        },
        "id": "ZtBTinGttQtQ",
        "outputId": "6149f91d-c920-473b-990b-817cb09bd23a"
      },
      "execution_count": null,
      "outputs": [
        {
          "output_type": "display_data",
          "data": {
            "text/plain": [
              "<Figure size 432x288 with 1 Axes>"
            ],
            "image/png": "[encoded data removed]"
          },
          "metadata": {
            "needs_background": "light"
          }
        },
        {
          "output_type": "execute_result",
          "data": {
            "text/plain": [
              "<matplotlib.axes._subplots.AxesSubplot at 0x7f6265b88790>"
            ]
          },
          "metadata": {},
          "execution_count": 120
        }
      ]
    },
    {
      "cell_type": "code",
      "source": [
        "#Plotting frequency distribution for bigram\n",
        "fd_bi.plot(30,cumulative=False)"
      ],
      "metadata": {
        "colab": {
          "base_uri": "https://localhost:8080/"
        },
        "id": "BjmNKD300HNA",
        "outputId": "ab36eb63-7e75-4af9-b7e5-19b51e2f09db"
      },
      "execution_count": null,
      "outputs": [
        {
          "output_type": "display_data",
          "data": {
            "text/plain": [
              "<Figure size 432x288 with 1 Axes>"
            ],
            "image/png": "[encoded data removed]"
          },
          "metadata": {
            "needs_background": "light"
          }
        },
        {
          "output_type": "execute_result",
          "data": {
            "text/plain": [
              "<matplotlib.axes._subplots.AxesSubplot at 0x7f6264c45bd0>"
            ]
          },
          "metadata": {},
          "execution_count": 121
        }
      ]
    },
    {
      "cell_type": "markdown",
      "metadata": {
        "id": "1Rkt2A1-lLmU"
      },
      "source": [
        "# **Exploratory Data Analysis (EDA)**\n",
        "* Exploring NaN values in dataset\n",
        "* Plotting countplots for Spam vs. Ham\n",
        "\n"
      ]
    },
    {
      "cell_type": "code",
      "metadata": {
        "id": "tzna42NelFhk",
        "colab": {
          "base_uri": "https://localhost:8080/"
        },
        "outputId": "6ac83ffe-c619-43ca-c69c-397726ce4461"
      },
      "source": [
        "df.shape"
      ],
      "execution_count": null,
      "outputs": [
        {
          "output_type": "execute_result",
          "data": {
            "text/plain": [
              "(5572, 2)"
            ]
          },
          "metadata": {},
          "execution_count": 122
        }
      ]
    },
    {
      "cell_type": "code",
      "metadata": {
        "id": "6sBEdM7LlDIw",
        "colab": {
          "base_uri": "https://localhost:8080/"
        },
        "outputId": "9df1000e-4b63-404e-c95c-020b1c1b7520"
      },
      "source": [
        "df.columns"
      ],
      "execution_count": null,
      "outputs": [
        {
          "output_type": "execute_result",
          "data": {
            "text/plain": [
              "Index(['label', 'message'], dtype='object')"
            ]
          },
          "metadata": {},
          "execution_count": 123
        }
      ]
    },
    {
      "cell_type": "code",
      "metadata": {
        "id": "D2Y-K4vTBFtI",
        "colab": {
          "base_uri": "https://localhost:8080/"
        },
        "outputId": "5428e59f-5b50-4cae-c1d2-881659fb4df8"
      },
      "source": [
        "df.dtypes"
      ],
      "execution_count": null,
      "outputs": [
        {
          "output_type": "execute_result",
          "data": {
            "text/plain": [
              "label      object\n",
              "message    object\n",
              "dtype: object"
            ]
          },
          "metadata": {},
          "execution_count": 124
        }
      ]
    },
    {
      "cell_type": "code",
      "metadata": {
        "id": "qcTIhSlRlHrb",
        "colab": {
          "base_uri": "https://localhost:8080/"
        },
        "outputId": "4a5080ca-76d4-41df-f846-11e57fd94e09"
      },
      "source": [
        "df.head()"
      ],
      "execution_count": null,
      "outputs": [
        {
          "output_type": "execute_result",
          "data": {
            "text/plain": [
              "  label                                            message\n",
              "0   ham  Go until jurong point, crazy.. Available only ...\n",
              "1   ham                      Ok lar... Joking wif u oni...\n",
              "2  spam  Free entry in 2 a wkly comp to win FA Cup fina...\n",
              "3   ham  U dun say so early hor... U c already then say...\n",
              "4   ham  Nah I don't think he goes to usf, he lives aro..."
            ],
            "text/html": [
              "\n",
              "  <div id=\"df-39ace9a5-a119-47c7-b302-f8868c3ba097\">\n",
              "    <div class=\"colab-df-container\">\n",
              "      <div>\n",
              "<style scoped>\n",
              "    .dataframe tbody tr th:only-of-type {\n",
              "        vertical-align: middle;\n",
              "    }\n",
              "\n",
              "    .dataframe tbody tr th {\n",
              "        vertical-align: top;\n",
              "    }\n",
              "\n",
              "    .dataframe thead th {\n",
              "        text-align: right;\n",
              "    }\n",
              "</style>\n",
              "<table border=\"1\" class=\"dataframe\">\n",
              "  <thead>\n",
              "    <tr style=\"text-align: right;\">\n",
              "      <th></th>\n",
              "      <th>label</th>\n",
              "      <th>message</th>\n",
              "    </tr>\n",
              "  </thead>\n",
              "  <tbody>\n",
              "    <tr>\n",
              "      <th>0</th>\n",
              "      <td>ham</td>\n",
              "      <td>Go until jurong point, crazy.. Available only ...</td>\n",
              "    </tr>\n",
              "    <tr>\n",
              "      <th>1</th>\n",
              "      <td>ham</td>\n",
              "      <td>Ok lar... Joking wif u oni...</td>\n",
              "    </tr>\n",
              "    <tr>\n",
              "      <th>2</th>\n",
              "      <td>spam</td>\n",
              "      <td>Free entry in 2 a wkly comp to win FA Cup fina...</td>\n",
              "    </tr>\n",
              "    <tr>\n",
              "      <th>3</th>\n",
              "      <td>ham</td>\n",
              "      <td>U dun say so early hor... U c already then say...</td>\n",
              "    </tr>\n",
              "    <tr>\n",
              "      <th>4</th>\n",
              "      <td>ham</td>\n",
              "      <td>Nah I don't think he goes to usf, he lives aro...</td>\n",
              "    </tr>\n",
              "  </tbody>\n",
              "</table>\n",
              "</div>\n",
              "      <button class=\"colab-df-convert\" onclick=\"convertToInteractive('df-39ace9a5-a119-47c7-b302-f8868c3ba097')\"\n",
              "              title=\"Convert this dataframe to an interactive table.\"\n",
              "              style=\"display:none;\">\n",
              "        \n",
              "  <svg xmlns=\"http://www.w3.org/2000/svg\" height=\"24px\"viewBox=\"0 0 24 24\"\n",
              "       width=\"24px\">\n",
              "    <path d=\"M0 0h24v24H0V0z\" fill=\"none\"/>\n",
              "    <path d=\"M18.56 5.44l.94 2.06.94-2.06 2.06-.94-2.06-.94-.94-2.06-.94 2.06-2.06.94zm-11 1L8.5 8.5l.94-2.06 2.06-.94-2.06-.94L8.5 2.5l-.94 2.06-2.06.94zm10 10l.94 2.06.94-2.06 2.06-.94-2.06-.94-.94-2.06-.94 2.06-2.06.94z\"/><path d=\"M17.41 7.96l-1.37-1.37c-.4-.4-.92-.59-1.43-.59-.52 0-1.04.2-1.43.59L10.3 9.45l-7.72 7.72c-.78.78-.78 2.05 0 2.83L4 21.41c.39.39.9.59 1.41.59.51 0 1.02-.2 1.41-.59l7.78-7.78 2.81-2.81c.8-.78.8-2.07 0-2.86zM5.41 20L4 18.59l7.72-7.72 1.47 1.35L5.41 20z\"/>\n",
              "  </svg>\n",
              "      </button>\n",
              "      \n",
              "  <style>\n",
              "    .colab-df-container {\n",
              "      display:flex;\n",
              "      flex-wrap:wrap;\n",
              "      gap: 12px;\n",
              "    }\n",
              "\n",
              "    .colab-df-convert {\n",
              "      background-color: #E8F0FE;\n",
              "      border: none;\n",
              "      border-radius: 50%;\n",
              "      cursor: pointer;\n",
              "      display: none;\n",
              "      fill: #1967D2;\n",
              "      height: 32px;\n",
              "      padding: 0 0 0 0;\n",
              "      width: 32px;\n",
              "    }\n",
              "\n",
              "    .colab-df-convert:hover {\n",
              "      background-color: #E2EBFA;\n",
              "      box-shadow: 0px 1px 2px rgba(60, 64, 67, 0.3), 0px 1px 3px 1px rgba(60, 64, 67, 0.15);\n",
              "      fill: #174EA6;\n",
              "    }\n",
              "\n",
              "    [theme=dark] .colab-df-convert {\n",
              "      background-color: #3B4455;\n",
              "      fill: #D2E3FC;\n",
              "    }\n",
              "\n",
              "    [theme=dark] .colab-df-convert:hover {\n",
              "      background-color: #434B5C;\n",
              "      box-shadow: 0px 1px 3px 1px rgba(0, 0, 0, 0.15);\n",
              "      filter: drop-shadow(0px 1px 2px rgba(0, 0, 0, 0.3));\n",
              "      fill: #FFFFFF;\n",
              "    }\n",
              "  </style>\n",
              "\n",
              "      <script>\n",
              "        const buttonEl =\n",
              "          document.querySelector('#df-39ace9a5-a119-47c7-b302-f8868c3ba097 button.colab-df-convert');\n",
              "        buttonEl.style.display =\n",
              "          google.colab.kernel.accessAllowed ? 'block' : 'none';\n",
              "\n",
              "        async function convertToInteractive(key) {\n",
              "          const element = document.querySelector('#df-39ace9a5-a119-47c7-b302-f8868c3ba097');\n",
              "          const dataTable =\n",
              "            await google.colab.kernel.invokeFunction('convertToInteractive',\n",
              "                                                     [key], {});\n",
              "          if (!dataTable) return;\n",
              "\n",
              "          const docLinkHtml = 'Like what you see? Visit the ' +\n",
              "            '<a target=\"_blank\" href=https://colab.research.google.com/notebooks/data_table.ipynb>data table notebook</a>'\n",
              "            + ' to learn more about interactive tables.';\n",
              "          element.innerHTML = '';\n",
              "          dataTable['output_type'] = 'display_data';\n",
              "          await google.colab.output.renderOutput(dataTable, element);\n",
              "          const docLink = document.createElement('div');\n",
              "          docLink.innerHTML = docLinkHtml;\n",
              "          element.appendChild(docLink);\n",
              "        }\n",
              "      </script>\n",
              "    </div>\n",
              "  </div>\n",
              "  "
            ]
          },
          "metadata": {},
          "execution_count": 125
        }
      ]
    },
    {
      "cell_type": "code",
      "metadata": {
        "id": "ZF5n2VL8J1wC",
        "colab": {
          "base_uri": "https://localhost:8080/"
        },
        "outputId": "e4abeed2-8edd-4901-f1fa-4d782e54288b"
      },
      "source": [
        "df.tail()"
      ],
      "execution_count": null,
      "outputs": [
        {
          "output_type": "execute_result",
          "data": {
            "text/plain": [
              "     label                                            message\n",
              "5567  spam  This is the 2nd time we have tried 2 contact u...\n",
              "5568   ham               Will ü b going to esplanade fr home?\n",
              "5569   ham  Pity, * was in mood for that. So...any other s...\n",
              "5570   ham  The guy did some bitching but I acted like i'd...\n",
              "5571   ham                         Rofl. Its true to its name"
            ],
            "text/html": [
              "\n",
              "  <div id=\"df-a4d65391-a7e9-4585-aa13-71e5b42b83f3\">\n",
              "    <div class=\"colab-df-container\">\n",
              "      <div>\n",
              "<style scoped>\n",
              "    .dataframe tbody tr th:only-of-type {\n",
              "        vertical-align: middle;\n",
              "    }\n",
              "\n",
              "    .dataframe tbody tr th {\n",
              "        vertical-align: top;\n",
              "    }\n",
              "\n",
              "    .dataframe thead th {\n",
              "        text-align: right;\n",
              "    }\n",
              "</style>\n",
              "<table border=\"1\" class=\"dataframe\">\n",
              "  <thead>\n",
              "    <tr style=\"text-align: right;\">\n",
              "      <th></th>\n",
              "      <th>label</th>\n",
              "      <th>message</th>\n",
              "    </tr>\n",
              "  </thead>\n",
              "  <tbody>\n",
              "    <tr>\n",
              "      <th>5567</th>\n",
              "      <td>spam</td>\n",
              "      <td>This is the 2nd time we have tried 2 contact u...</td>\n",
              "    </tr>\n",
              "    <tr>\n",
              "      <th>5568</th>\n",
              "      <td>ham</td>\n",
              "      <td>Will ü b going to esplanade fr home?</td>\n",
              "    </tr>\n",
              "    <tr>\n",
              "      <th>5569</th>\n",
              "      <td>ham</td>\n",
              "      <td>Pity, * was in mood for that. So...any other s...</td>\n",
              "    </tr>\n",
              "    <tr>\n",
              "      <th>5570</th>\n",
              "      <td>ham</td>\n",
              "      <td>The guy did some bitching but I acted like i'd...</td>\n",
              "    </tr>\n",
              "    <tr>\n",
              "      <th>5571</th>\n",
              "      <td>ham</td>\n",
              "      <td>Rofl. Its true to its name</td>\n",
              "    </tr>\n",
              "  </tbody>\n",
              "</table>\n",
              "</div>\n",
              "      <button class=\"colab-df-convert\" onclick=\"convertToInteractive('df-a4d65391-a7e9-4585-aa13-71e5b42b83f3')\"\n",
              "              title=\"Convert this dataframe to an interactive table.\"\n",
              "              style=\"display:none;\">\n",
              "        \n",
              "  <svg xmlns=\"http://www.w3.org/2000/svg\" height=\"24px\"viewBox=\"0 0 24 24\"\n",
              "       width=\"24px\">\n",
              "    <path d=\"M0 0h24v24H0V0z\" fill=\"none\"/>\n",
              "    <path d=\"M18.56 5.44l.94 2.06.94-2.06 2.06-.94-2.06-.94-.94-2.06-.94 2.06-2.06.94zm-11 1L8.5 8.5l.94-2.06 2.06-.94-2.06-.94L8.5 2.5l-.94 2.06-2.06.94zm10 10l.94 2.06.94-2.06 2.06-.94-2.06-.94-.94-2.06-.94 2.06-2.06.94z\"/><path d=\"M17.41 7.96l-1.37-1.37c-.4-.4-.92-.59-1.43-.59-.52 0-1.04.2-1.43.59L10.3 9.45l-7.72 7.72c-.78.78-.78 2.05 0 2.83L4 21.41c.39.39.9.59 1.41.59.51 0 1.02-.2 1.41-.59l7.78-7.78 2.81-2.81c.8-.78.8-2.07 0-2.86zM5.41 20L4 18.59l7.72-7.72 1.47 1.35L5.41 20z\"/>\n",
              "  </svg>\n",
              "      </button>\n",
              "      \n",
              "  <style>\n",
              "    .colab-df-container {\n",
              "      display:flex;\n",
              "      flex-wrap:wrap;\n",
              "      gap: 12px;\n",
              "    }\n",
              "\n",
              "    .colab-df-convert {\n",
              "      background-color: #E8F0FE;\n",
              "      border: none;\n",
              "      border-radius: 50%;\n",
              "      cursor: pointer;\n",
              "      display: none;\n",
              "      fill: #1967D2;\n",
              "      height: 32px;\n",
              "      padding: 0 0 0 0;\n",
              "      width: 32px;\n",
              "    }\n",
              "\n",
              "    .colab-df-convert:hover {\n",
              "      background-color: #E2EBFA;\n",
              "      box-shadow: 0px 1px 2px rgba(60, 64, 67, 0.3), 0px 1px 3px 1px rgba(60, 64, 67, 0.15);\n",
              "      fill: #174EA6;\n",
              "    }\n",
              "\n",
              "    [theme=dark] .colab-df-convert {\n",
              "      background-color: #3B4455;\n",
              "      fill: #D2E3FC;\n",
              "    }\n",
              "\n",
              "    [theme=dark] .colab-df-convert:hover {\n",
              "      background-color: #434B5C;\n",
              "      box-shadow: 0px 1px 3px 1px rgba(0, 0, 0, 0.15);\n",
              "      filter: drop-shadow(0px 1px 2px rgba(0, 0, 0, 0.3));\n",
              "      fill: #FFFFFF;\n",
              "    }\n",
              "  </style>\n",
              "\n",
              "      <script>\n",
              "        const buttonEl =\n",
              "          document.querySelector('#df-a4d65391-a7e9-4585-aa13-71e5b42b83f3 button.colab-df-convert');\n",
              "        buttonEl.style.display =\n",
              "          google.colab.kernel.accessAllowed ? 'block' : 'none';\n",
              "\n",
              "        async function convertToInteractive(key) {\n",
              "          const element = document.querySelector('#df-a4d65391-a7e9-4585-aa13-71e5b42b83f3');\n",
              "          const dataTable =\n",
              "            await google.colab.kernel.invokeFunction('convertToInteractive',\n",
              "                                                     [key], {});\n",
              "          if (!dataTable) return;\n",
              "\n",
              "          const docLinkHtml = 'Like what you see? Visit the ' +\n",
              "            '<a target=\"_blank\" href=https://colab.research.google.com/notebooks/data_table.ipynb>data table notebook</a>'\n",
              "            + ' to learn more about interactive tables.';\n",
              "          element.innerHTML = '';\n",
              "          dataTable['output_type'] = 'display_data';\n",
              "          await google.colab.output.renderOutput(dataTable, element);\n",
              "          const docLink = document.createElement('div');\n",
              "          docLink.innerHTML = docLinkHtml;\n",
              "          element.appendChild(docLink);\n",
              "        }\n",
              "      </script>\n",
              "    </div>\n",
              "  </div>\n",
              "  "
            ]
          },
          "metadata": {},
          "execution_count": 126
        }
      ]
    },
    {
      "cell_type": "code",
      "metadata": {
        "id": "KjBi50n3BJk_",
        "colab": {
          "base_uri": "https://localhost:8080/"
        },
        "outputId": "59743ff4-d8e2-40a8-d732-a3c060689cec"
      },
      "source": [
        "df.info()"
      ],
      "execution_count": null,
      "outputs": [
        {
          "output_type": "stream",
          "name": "stdout",
          "text": [
            "<class 'pandas.core.frame.DataFrame'>\n",
            "RangeIndex: 5572 entries, 0 to 5571\n",
            "Data columns (total 2 columns):\n",
            " #   Column   Non-Null Count  Dtype \n",
            "---  ------   --------------  ----- \n",
            " 0   label    5572 non-null   object\n",
            " 1   message  5572 non-null   object\n",
            "dtypes: object(2)\n",
            "memory usage: 87.2+ KB\n"
          ]
        }
      ]
    },
    {
      "cell_type": "code",
      "metadata": {
        "id": "Ipncn2wWGnCR",
        "colab": {
          "base_uri": "https://localhost:8080/"
        },
        "outputId": "c9953115-ac6d-41c7-f738-6657c3b4638b"
      },
      "source": [
        "df.describe(include='object')"
      ],
      "execution_count": null,
      "outputs": [
        {
          "output_type": "execute_result",
          "data": {
            "text/plain": [
              "       label                 message\n",
              "count   5572                    5572\n",
              "unique     2                    5169\n",
              "top      ham  Sorry, I'll call later\n",
              "freq    4825                      30"
            ],
            "text/html": [
              "\n",
              "  <div id=\"df-343a85fc-9911-49c2-b2d9-8ed0d4e8f806\">\n",
              "    <div class=\"colab-df-container\">\n",
              "      <div>\n",
              "<style scoped>\n",
              "    .dataframe tbody tr th:only-of-type {\n",
              "        vertical-align: middle;\n",
              "    }\n",
              "\n",
              "    .dataframe tbody tr th {\n",
              "        vertical-align: top;\n",
              "    }\n",
              "\n",
              "    .dataframe thead th {\n",
              "        text-align: right;\n",
              "    }\n",
              "</style>\n",
              "<table border=\"1\" class=\"dataframe\">\n",
              "  <thead>\n",
              "    <tr style=\"text-align: right;\">\n",
              "      <th></th>\n",
              "      <th>label</th>\n",
              "      <th>message</th>\n",
              "    </tr>\n",
              "  </thead>\n",
              "  <tbody>\n",
              "    <tr>\n",
              "      <th>count</th>\n",
              "      <td>5572</td>\n",
              "      <td>5572</td>\n",
              "    </tr>\n",
              "    <tr>\n",
              "      <th>unique</th>\n",
              "      <td>2</td>\n",
              "      <td>5169</td>\n",
              "    </tr>\n",
              "    <tr>\n",
              "      <th>top</th>\n",
              "      <td>ham</td>\n",
              "      <td>Sorry, I'll call later</td>\n",
              "    </tr>\n",
              "    <tr>\n",
              "      <th>freq</th>\n",
              "      <td>4825</td>\n",
              "      <td>30</td>\n",
              "    </tr>\n",
              "  </tbody>\n",
              "</table>\n",
              "</div>\n",
              "      <button class=\"colab-df-convert\" onclick=\"convertToInteractive('df-343a85fc-9911-49c2-b2d9-8ed0d4e8f806')\"\n",
              "              title=\"Convert this dataframe to an interactive table.\"\n",
              "              style=\"display:none;\">\n",
              "        \n",
              "  <svg xmlns=\"http://www.w3.org/2000/svg\" height=\"24px\"viewBox=\"0 0 24 24\"\n",
              "       width=\"24px\">\n",
              "    <path d=\"M0 0h24v24H0V0z\" fill=\"none\"/>\n",
              "    <path d=\"M18.56 5.44l.94 2.06.94-2.06 2.06-.94-2.06-.94-.94-2.06-.94 2.06-2.06.94zm-11 1L8.5 8.5l.94-2.06 2.06-.94-2.06-.94L8.5 2.5l-.94 2.06-2.06.94zm10 10l.94 2.06.94-2.06 2.06-.94-2.06-.94-.94-2.06-.94 2.06-2.06.94z\"/><path d=\"M17.41 7.96l-1.37-1.37c-.4-.4-.92-.59-1.43-.59-.52 0-1.04.2-1.43.59L10.3 9.45l-7.72 7.72c-.78.78-.78 2.05 0 2.83L4 21.41c.39.39.9.59 1.41.59.51 0 1.02-.2 1.41-.59l7.78-7.78 2.81-2.81c.8-.78.8-2.07 0-2.86zM5.41 20L4 18.59l7.72-7.72 1.47 1.35L5.41 20z\"/>\n",
              "  </svg>\n",
              "      </button>\n",
              "      \n",
              "  <style>\n",
              "    .colab-df-container {\n",
              "      display:flex;\n",
              "      flex-wrap:wrap;\n",
              "      gap: 12px;\n",
              "    }\n",
              "\n",
              "    .colab-df-convert {\n",
              "      background-color: #E8F0FE;\n",
              "      border: none;\n",
              "      border-radius: 50%;\n",
              "      cursor: pointer;\n",
              "      display: none;\n",
              "      fill: #1967D2;\n",
              "      height: 32px;\n",
              "      padding: 0 0 0 0;\n",
              "      width: 32px;\n",
              "    }\n",
              "\n",
              "    .colab-df-convert:hover {\n",
              "      background-color: #E2EBFA;\n",
              "      box-shadow: 0px 1px 2px rgba(60, 64, 67, 0.3), 0px 1px 3px 1px rgba(60, 64, 67, 0.15);\n",
              "      fill: #174EA6;\n",
              "    }\n",
              "\n",
              "    [theme=dark] .colab-df-convert {\n",
              "      background-color: #3B4455;\n",
              "      fill: #D2E3FC;\n",
              "    }\n",
              "\n",
              "    [theme=dark] .colab-df-convert:hover {\n",
              "      background-color: #434B5C;\n",
              "      box-shadow: 0px 1px 3px 1px rgba(0, 0, 0, 0.15);\n",
              "      filter: drop-shadow(0px 1px 2px rgba(0, 0, 0, 0.3));\n",
              "      fill: #FFFFFF;\n",
              "    }\n",
              "  </style>\n",
              "\n",
              "      <script>\n",
              "        const buttonEl =\n",
              "          document.querySelector('#df-343a85fc-9911-49c2-b2d9-8ed0d4e8f806 button.colab-df-convert');\n",
              "        buttonEl.style.display =\n",
              "          google.colab.kernel.accessAllowed ? 'block' : 'none';\n",
              "\n",
              "        async function convertToInteractive(key) {\n",
              "          const element = document.querySelector('#df-343a85fc-9911-49c2-b2d9-8ed0d4e8f806');\n",
              "          const dataTable =\n",
              "            await google.colab.kernel.invokeFunction('convertToInteractive',\n",
              "                                                     [key], {});\n",
              "          if (!dataTable) return;\n",
              "\n",
              "          const docLinkHtml = 'Like what you see? Visit the ' +\n",
              "            '<a target=\"_blank\" href=https://colab.research.google.com/notebooks/data_table.ipynb>data table notebook</a>'\n",
              "            + ' to learn more about interactive tables.';\n",
              "          element.innerHTML = '';\n",
              "          dataTable['output_type'] = 'display_data';\n",
              "          await google.colab.output.renderOutput(dataTable, element);\n",
              "          const docLink = document.createElement('div');\n",
              "          docLink.innerHTML = docLinkHtml;\n",
              "          element.appendChild(docLink);\n",
              "        }\n",
              "      </script>\n",
              "    </div>\n",
              "  </div>\n",
              "  "
            ]
          },
          "metadata": {},
          "execution_count": 128
        }
      ]
    },
    {
      "cell_type": "markdown",
      "metadata": {
        "id": "RI-zu8fXBQoc"
      },
      "source": [
        "_**Note: No NaN values** in the dataset._"
      ]
    },
    {
      "cell_type": "code",
      "metadata": {
        "id": "8NpIBm-GJWJ6"
      },
      "source": [
        "# Mapping values for label\n",
        "df['label'] = df['label'].map({'ham': 0, 'spam': 1})"
      ],
      "execution_count": null,
      "outputs": []
    },
    {
      "cell_type": "code",
      "metadata": {
        "id": "fJzlOdnuJsIw",
        "colab": {
          "base_uri": "https://localhost:8080/"
        },
        "outputId": "8060d896-a476-4fe0-eeda-4d2807fca370"
      },
      "source": [
        "df.head()"
      ],
      "execution_count": null,
      "outputs": [
        {
          "output_type": "execute_result",
          "data": {
            "text/plain": [
              "   label                                            message\n",
              "0      0  Go until jurong point, crazy.. Available only ...\n",
              "1      0                      Ok lar... Joking wif u oni...\n",
              "2      1  Free entry in 2 a wkly comp to win FA Cup fina...\n",
              "3      0  U dun say so early hor... U c already then say...\n",
              "4      0  Nah I don't think he goes to usf, he lives aro..."
            ],
            "text/html": [
              "\n",
              "  <div id=\"df-7146b750-8cd7-492a-ac4a-95083b5d6e81\">\n",
              "    <div class=\"colab-df-container\">\n",
              "      <div>\n",
              "<style scoped>\n",
              "    .dataframe tbody tr th:only-of-type {\n",
              "        vertical-align: middle;\n",
              "    }\n",
              "\n",
              "    .dataframe tbody tr th {\n",
              "        vertical-align: top;\n",
              "    }\n",
              "\n",
              "    .dataframe thead th {\n",
              "        text-align: right;\n",
              "    }\n",
              "</style>\n",
              "<table border=\"1\" class=\"dataframe\">\n",
              "  <thead>\n",
              "    <tr style=\"text-align: right;\">\n",
              "      <th></th>\n",
              "      <th>label</th>\n",
              "      <th>message</th>\n",
              "    </tr>\n",
              "  </thead>\n",
              "  <tbody>\n",
              "    <tr>\n",
              "      <th>0</th>\n",
              "      <td>0</td>\n",
              "      <td>Go until jurong point, crazy.. Available only ...</td>\n",
              "    </tr>\n",
              "    <tr>\n",
              "      <th>1</th>\n",
              "      <td>0</td>\n",
              "      <td>Ok lar... Joking wif u oni...</td>\n",
              "    </tr>\n",
              "    <tr>\n",
              "      <th>2</th>\n",
              "      <td>1</td>\n",
              "      <td>Free entry in 2 a wkly comp to win FA Cup fina...</td>\n",
              "    </tr>\n",
              "    <tr>\n",
              "      <th>3</th>\n",
              "      <td>0</td>\n",
              "      <td>U dun say so early hor... U c already then say...</td>\n",
              "    </tr>\n",
              "    <tr>\n",
              "      <th>4</th>\n",
              "      <td>0</td>\n",
              "      <td>Nah I don't think he goes to usf, he lives aro...</td>\n",
              "    </tr>\n",
              "  </tbody>\n",
              "</table>\n",
              "</div>\n",
              "      <button class=\"colab-df-convert\" onclick=\"convertToInteractive('df-7146b750-8cd7-492a-ac4a-95083b5d6e81')\"\n",
              "              title=\"Convert this dataframe to an interactive table.\"\n",
              "              style=\"display:none;\">\n",
              "        \n",
              "  <svg xmlns=\"http://www.w3.org/2000/svg\" height=\"24px\"viewBox=\"0 0 24 24\"\n",
              "       width=\"24px\">\n",
              "    <path d=\"M0 0h24v24H0V0z\" fill=\"none\"/>\n",
              "    <path d=\"M18.56 5.44l.94 2.06.94-2.06 2.06-.94-2.06-.94-.94-2.06-.94 2.06-2.06.94zm-11 1L8.5 8.5l.94-2.06 2.06-.94-2.06-.94L8.5 2.5l-.94 2.06-2.06.94zm10 10l.94 2.06.94-2.06 2.06-.94-2.06-.94-.94-2.06-.94 2.06-2.06.94z\"/><path d=\"M17.41 7.96l-1.37-1.37c-.4-.4-.92-.59-1.43-.59-.52 0-1.04.2-1.43.59L10.3 9.45l-7.72 7.72c-.78.78-.78 2.05 0 2.83L4 21.41c.39.39.9.59 1.41.59.51 0 1.02-.2 1.41-.59l7.78-7.78 2.81-2.81c.8-.78.8-2.07 0-2.86zM5.41 20L4 18.59l7.72-7.72 1.47 1.35L5.41 20z\"/>\n",
              "  </svg>\n",
              "      </button>\n",
              "      \n",
              "  <style>\n",
              "    .colab-df-container {\n",
              "      display:flex;\n",
              "      flex-wrap:wrap;\n",
              "      gap: 12px;\n",
              "    }\n",
              "\n",
              "    .colab-df-convert {\n",
              "      background-color: #E8F0FE;\n",
              "      border: none;\n",
              "      border-radius: 50%;\n",
              "      cursor: pointer;\n",
              "      display: none;\n",
              "      fill: #1967D2;\n",
              "      height: 32px;\n",
              "      padding: 0 0 0 0;\n",
              "      width: 32px;\n",
              "    }\n",
              "\n",
              "    .colab-df-convert:hover {\n",
              "      background-color: #E2EBFA;\n",
              "      box-shadow: 0px 1px 2px rgba(60, 64, 67, 0.3), 0px 1px 3px 1px rgba(60, 64, 67, 0.15);\n",
              "      fill: #174EA6;\n",
              "    }\n",
              "\n",
              "    [theme=dark] .colab-df-convert {\n",
              "      background-color: #3B4455;\n",
              "      fill: #D2E3FC;\n",
              "    }\n",
              "\n",
              "    [theme=dark] .colab-df-convert:hover {\n",
              "      background-color: #434B5C;\n",
              "      box-shadow: 0px 1px 3px 1px rgba(0, 0, 0, 0.15);\n",
              "      filter: drop-shadow(0px 1px 2px rgba(0, 0, 0, 0.3));\n",
              "      fill: #FFFFFF;\n",
              "    }\n",
              "  </style>\n",
              "\n",
              "      <script>\n",
              "        const buttonEl =\n",
              "          document.querySelector('#df-7146b750-8cd7-492a-ac4a-95083b5d6e81 button.colab-df-convert');\n",
              "        buttonEl.style.display =\n",
              "          google.colab.kernel.accessAllowed ? 'block' : 'none';\n",
              "\n",
              "        async function convertToInteractive(key) {\n",
              "          const element = document.querySelector('#df-7146b750-8cd7-492a-ac4a-95083b5d6e81');\n",
              "          const dataTable =\n",
              "            await google.colab.kernel.invokeFunction('convertToInteractive',\n",
              "                                                     [key], {});\n",
              "          if (!dataTable) return;\n",
              "\n",
              "          const docLinkHtml = 'Like what you see? Visit the ' +\n",
              "            '<a target=\"_blank\" href=https://colab.research.google.com/notebooks/data_table.ipynb>data table notebook</a>'\n",
              "            + ' to learn more about interactive tables.';\n",
              "          element.innerHTML = '';\n",
              "          dataTable['output_type'] = 'display_data';\n",
              "          await google.colab.output.renderOutput(dataTable, element);\n",
              "          const docLink = document.createElement('div');\n",
              "          docLink.innerHTML = docLinkHtml;\n",
              "          element.appendChild(docLink);\n",
              "        }\n",
              "      </script>\n",
              "    </div>\n",
              "  </div>\n",
              "  "
            ]
          },
          "metadata": {},
          "execution_count": 130
        }
      ]
    },
    {
      "cell_type": "code",
      "metadata": {
        "id": "noXpzSrQJ465",
        "colab": {
          "base_uri": "https://localhost:8080/"
        },
        "outputId": "2e0d584c-4184-4359-c99e-3f7e8da46d6c"
      },
      "source": [
        "df.tail()"
      ],
      "execution_count": null,
      "outputs": [
        {
          "output_type": "execute_result",
          "data": {
            "text/plain": [
              "      label                                            message\n",
              "5567      1  This is the 2nd time we have tried 2 contact u...\n",
              "5568      0               Will ü b going to esplanade fr home?\n",
              "5569      0  Pity, * was in mood for that. So...any other s...\n",
              "5570      0  The guy did some bitching but I acted like i'd...\n",
              "5571      0                         Rofl. Its true to its name"
            ],
            "text/html": [
              "\n",
              "  <div id=\"df-03044395-c9bd-4662-85c8-8b16a0e7547f\">\n",
              "    <div class=\"colab-df-container\">\n",
              "      <div>\n",
              "<style scoped>\n",
              "    .dataframe tbody tr th:only-of-type {\n",
              "        vertical-align: middle;\n",
              "    }\n",
              "\n",
              "    .dataframe tbody tr th {\n",
              "        vertical-align: top;\n",
              "    }\n",
              "\n",
              "    .dataframe thead th {\n",
              "        text-align: right;\n",
              "    }\n",
              "</style>\n",
              "<table border=\"1\" class=\"dataframe\">\n",
              "  <thead>\n",
              "    <tr style=\"text-align: right;\">\n",
              "      <th></th>\n",
              "      <th>label</th>\n",
              "      <th>message</th>\n",
              "    </tr>\n",
              "  </thead>\n",
              "  <tbody>\n",
              "    <tr>\n",
              "      <th>5567</th>\n",
              "      <td>1</td>\n",
              "      <td>This is the 2nd time we have tried 2 contact u...</td>\n",
              "    </tr>\n",
              "    <tr>\n",
              "      <th>5568</th>\n",
              "      <td>0</td>\n",
              "      <td>Will ü b going to esplanade fr home?</td>\n",
              "    </tr>\n",
              "    <tr>\n",
              "      <th>5569</th>\n",
              "      <td>0</td>\n",
              "      <td>Pity, * was in mood for that. So...any other s...</td>\n",
              "    </tr>\n",
              "    <tr>\n",
              "      <th>5570</th>\n",
              "      <td>0</td>\n",
              "      <td>The guy did some bitching but I acted like i'd...</td>\n",
              "    </tr>\n",
              "    <tr>\n",
              "      <th>5571</th>\n",
              "      <td>0</td>\n",
              "      <td>Rofl. Its true to its name</td>\n",
              "    </tr>\n",
              "  </tbody>\n",
              "</table>\n",
              "</div>\n",
              "      <button class=\"colab-df-convert\" onclick=\"convertToInteractive('df-03044395-c9bd-4662-85c8-8b16a0e7547f')\"\n",
              "              title=\"Convert this dataframe to an interactive table.\"\n",
              "              style=\"display:none;\">\n",
              "        \n",
              "  <svg xmlns=\"http://www.w3.org/2000/svg\" height=\"24px\"viewBox=\"0 0 24 24\"\n",
              "       width=\"24px\">\n",
              "    <path d=\"M0 0h24v24H0V0z\" fill=\"none\"/>\n",
              "    <path d=\"M18.56 5.44l.94 2.06.94-2.06 2.06-.94-2.06-.94-.94-2.06-.94 2.06-2.06.94zm-11 1L8.5 8.5l.94-2.06 2.06-.94-2.06-.94L8.5 2.5l-.94 2.06-2.06.94zm10 10l.94 2.06.94-2.06 2.06-.94-2.06-.94-.94-2.06-.94 2.06-2.06.94z\"/><path d=\"M17.41 7.96l-1.37-1.37c-.4-.4-.92-.59-1.43-.59-.52 0-1.04.2-1.43.59L10.3 9.45l-7.72 7.72c-.78.78-.78 2.05 0 2.83L4 21.41c.39.39.9.59 1.41.59.51 0 1.02-.2 1.41-.59l7.78-7.78 2.81-2.81c.8-.78.8-2.07 0-2.86zM5.41 20L4 18.59l7.72-7.72 1.47 1.35L5.41 20z\"/>\n",
              "  </svg>\n",
              "      </button>\n",
              "      \n",
              "  <style>\n",
              "    .colab-df-container {\n",
              "      display:flex;\n",
              "      flex-wrap:wrap;\n",
              "      gap: 12px;\n",
              "    }\n",
              "\n",
              "    .colab-df-convert {\n",
              "      background-color: #E8F0FE;\n",
              "      border: none;\n",
              "      border-radius: 50%;\n",
              "      cursor: pointer;\n",
              "      display: none;\n",
              "      fill: #1967D2;\n",
              "      height: 32px;\n",
              "      padding: 0 0 0 0;\n",
              "      width: 32px;\n",
              "    }\n",
              "\n",
              "    .colab-df-convert:hover {\n",
              "      background-color: #E2EBFA;\n",
              "      box-shadow: 0px 1px 2px rgba(60, 64, 67, 0.3), 0px 1px 3px 1px rgba(60, 64, 67, 0.15);\n",
              "      fill: #174EA6;\n",
              "    }\n",
              "\n",
              "    [theme=dark] .colab-df-convert {\n",
              "      background-color: #3B4455;\n",
              "      fill: #D2E3FC;\n",
              "    }\n",
              "\n",
              "    [theme=dark] .colab-df-convert:hover {\n",
              "      background-color: #434B5C;\n",
              "      box-shadow: 0px 1px 3px 1px rgba(0, 0, 0, 0.15);\n",
              "      filter: drop-shadow(0px 1px 2px rgba(0, 0, 0, 0.3));\n",
              "      fill: #FFFFFF;\n",
              "    }\n",
              "  </style>\n",
              "\n",
              "      <script>\n",
              "        const buttonEl =\n",
              "          document.querySelector('#df-03044395-c9bd-4662-85c8-8b16a0e7547f button.colab-df-convert');\n",
              "        buttonEl.style.display =\n",
              "          google.colab.kernel.accessAllowed ? 'block' : 'none';\n",
              "\n",
              "        async function convertToInteractive(key) {\n",
              "          const element = document.querySelector('#df-03044395-c9bd-4662-85c8-8b16a0e7547f');\n",
              "          const dataTable =\n",
              "            await google.colab.kernel.invokeFunction('convertToInteractive',\n",
              "                                                     [key], {});\n",
              "          if (!dataTable) return;\n",
              "\n",
              "          const docLinkHtml = 'Like what you see? Visit the ' +\n",
              "            '<a target=\"_blank\" href=https://colab.research.google.com/notebooks/data_table.ipynb>data table notebook</a>'\n",
              "            + ' to learn more about interactive tables.';\n",
              "          element.innerHTML = '';\n",
              "          dataTable['output_type'] = 'display_data';\n",
              "          await google.colab.output.renderOutput(dataTable, element);\n",
              "          const docLink = document.createElement('div');\n",
              "          docLink.innerHTML = docLinkHtml;\n",
              "          element.appendChild(docLink);\n",
              "        }\n",
              "      </script>\n",
              "    </div>\n",
              "  </div>\n",
              "  "
            ]
          },
          "metadata": {},
          "execution_count": 131
        }
      ]
    },
    {
      "cell_type": "code",
      "metadata": {
        "id": "HRy7PIlClJiT"
      },
      "source": [
        "# Importing essential libraries for visualization\n",
        "import matplotlib.pyplot as plt\n",
        "import seaborn as sns\n",
        "%matplotlib inline"
      ],
      "execution_count": null,
      "outputs": []
    },
    {
      "cell_type": "code",
      "metadata": {
        "id": "Xpzp7cqdljhd",
        "colab": {
          "base_uri": "https://localhost:8080/"
        },
        "outputId": "8e3ff289-5cbc-40f8-9ec7-ece745f6a251"
      },
      "source": [
        "# Countplot for Spam vs. Ham as imbalanced dataset\n",
        "plt.figure(figsize=(8,8))\n",
        "g = sns.countplot(x='label', data=df)\n",
        "p = plt.title('Countplot for Spam vs. Ham as imbalanced dataset')\n",
        "p = plt.xlabel('Is SMS Spam?')\n",
        "p = plt.ylabel('Count')"
      ],
      "execution_count": null,
      "outputs": [
        {
          "output_type": "display_data",
          "data": {
            "text/plain": [
              "<Figure size 576x576 with 1 Axes>"
            ],
            "image/png": "[encoded data removed]"
          },
          "metadata": {
            "needs_background": "light"
          }
        }
      ]
    },
    {
      "cell_type": "markdown",
      "metadata": {
        "id": "CzNro4H9_Qb3"
      },
      "source": [
        "_**Insight:** From the above countplot, it is evident that the **dataset is imbalanced**._"
      ]
    },
    {
      "cell_type": "markdown",
      "source": [
        "# **Dictionary & Bigram**"
      ],
      "metadata": {
        "id": "Ent7nLqKkmK9"
      }
    },
    {
      "cell_type": "code",
      "source": [
        "text=\"\"\n",
        "for i in senToken:\n",
        "  temp=word_tokenize(i)\n",
        "  for j in temp: \n",
        "    if (len(j)==1 and j.lower()!='i' and j.lower()!='a'):\n",
        "      continue\n",
        "    if (j!='\\n' and j!='.' and j!='!' and j!='-' and j!='\"' and j!=','):\n",
        "        text += j.lower()\n",
        "        text += ' '\n",
        "  text += '<unk>'\n",
        "\n",
        "wordToken = word_tokenize(text)\n",
        "\n",
        "tokens = ngrams(wordToken,1)\n",
        "fd_uni = FreqDist(tokens)\n",
        "\n",
        "Bigram = list(nltk.bigrams(wordToken))\n",
        "fd_bi = FreqDist(bigrams(wordToken)) \n",
        "\n",
        "vocab = []\n",
        "for i in fd_uni.items():\n",
        "  vocab.append(i[0][0])"
      ],
      "metadata": {
        "id": "yDsi8qGskpOK"
      },
      "execution_count": null,
      "outputs": []
    },
    {
      "cell_type": "code",
      "source": [
        "def bi_prob(w1,w2):\n",
        "  bg = tuple((w1,w2))\n",
        "  num = 0\n",
        "  if (bg in fd_bi):\n",
        "    num = fd_bi[bg]\n",
        "  else:\n",
        "    return 0\n",
        "  if(w1 not in fd_uni):\n",
        "    return 0\n",
        "  else : return num/fd_uni[w1]"
      ],
      "metadata": {
        "id": "IrkHQIrJcZaK"
      },
      "execution_count": null,
      "outputs": []
    },
    {
      "cell_type": "code",
      "source": [
        "vocab"
      ],
      "metadata": {
        "colab": {
          "base_uri": "https://localhost:8080/"
        },
        "id": "-xKP39QjVrzi",
        "outputId": "11522739-fc59-4a06-d49b-b891bd5a8a23"
      },
      "execution_count": null,
      "outputs": [
        {
          "output_type": "execute_result",
          "data": {
            "text/plain": [
              "['Colonel',\n",
              " 'Durnford',\n",
              " '...',\n",
              " 'William',\n",
              " 'Vereker',\n",
              " '<',\n",
              " 'unk',\n",
              " '>',\n",
              " 'I',\n",
              " 'hear',\n",
              " 'you',\n",
              " \"'ve\",\n",
              " 'been',\n",
              " 'seeking',\n",
              " 'Officers',\n",
              " 'Good',\n",
              " 'ones',\n",
              " 'yes',\n",
              " 'Mr',\n",
              " 'Gentlemen',\n",
              " 'who',\n",
              " 'can',\n",
              " 'ride',\n",
              " 'and',\n",
              " 'shoot',\n",
              " 'Your',\n",
              " 'orders',\n",
              " \"'m\",\n",
              " 'to',\n",
              " 'take',\n",
              " 'the',\n",
              " 'Sikali',\n",
              " 'with',\n",
              " 'main',\n",
              " 'column',\n",
              " 'river',\n",
              " 'Lord',\n",
              " 'Chelmsford',\n",
              " 'seems',\n",
              " 'want',\n",
              " 'me',\n",
              " 'stay',\n",
              " 'back',\n",
              " 'my',\n",
              " 'Basutos',\n",
              " 'think',\n",
              " 'wants',\n",
              " 'a',\n",
              " 'good',\n",
              " 'man',\n",
              " 'on',\n",
              " 'border',\n",
              " 'Why',\n",
              " 'he',\n",
              " 'fears',\n",
              " 'flanking',\n",
              " 'attack',\n",
              " 'requires',\n",
              " 'steady',\n",
              " 'Commander',\n",
              " 'in',\n",
              " 'reserve',\n",
              " 'Well',\n",
              " 'assure',\n",
              " 'Sir',\n",
              " 'have',\n",
              " 'no',\n",
              " 'desire',\n",
              " 'create',\n",
              " 'difficulties',\n",
              " '45',\n",
              " 'And',\n",
              " 'do',\n",
              " 'not',\n",
              " 'In',\n",
              " 'fact',\n",
              " \"'d\",\n",
              " 'be',\n",
              " 'obliged',\n",
              " 'for',\n",
              " 'your',\n",
              " 'best',\n",
              " 'advice',\n",
              " 'What',\n",
              " 'scouts',\n",
              " 'seen',\n",
              " 'So',\n",
              " 'far',\n",
              " 'only',\n",
              " 'their',\n",
              " 'But',\n",
              " 'we',\n",
              " 'had',\n",
              " 'reports',\n",
              " 'of',\n",
              " 'small',\n",
              " 'Impi',\n",
              " 'farther',\n",
              " 'north',\n",
              " 'over',\n",
              " 'there',\n",
              " 'Lighting',\n",
              " 'COGHILL',\n",
              " 'cigar',\n",
              " 'Our',\n",
              " 'Dumford',\n",
              " 'scored',\n",
              " 'quite',\n",
              " 'coup',\n",
              " 'Horse',\n",
              " 'Um',\n",
              " 'There',\n",
              " 'are',\n",
              " 'rumours',\n",
              " 'that',\n",
              " 'intends',\n",
              " 'make',\n",
              " 'Second',\n",
              " 'Command',\n",
              " \"'s\",\n",
              " 'typical',\n",
              " 'Her',\n",
              " 'Majesty',\n",
              " 'army',\n",
              " 'Appoint',\n",
              " 'an',\n",
              " 'engineer',\n",
              " 'soldier',\n",
              " 'work',\n",
              " 'Do',\n",
              " 'she',\n",
              " 'might',\n",
              " 'interested',\n",
              " 'someone',\n",
              " 'Which',\n",
              " 'one',\n",
              " 'The',\n",
              " 'keeps',\n",
              " 'looking',\n",
              " 'at',\n",
              " 'ft',\n",
              " 'could',\n",
              " 'flatter',\n",
              " 'yourself',\n",
              " 'CoghilL',\n",
              " 'It',\n",
              " 'odd',\n",
              " 'eye',\n",
              " 'Choose',\n",
              " 'targets',\n",
              " 'men',\n",
              " 'That',\n",
              " 'right',\n",
              " 'Watch',\n",
              " 'those',\n",
              " 'markers',\n",
              " '55',\n",
              " 'Keep',\n",
              " 'You',\n",
              " \"'re\",\n",
              " 'shots',\n",
              " 'TwentyFourth',\n",
              " 'bunch',\n",
              " 'heathens',\n",
              " 'it',\n",
              " 'Stuart',\n",
              " 'Yes',\n",
              " 'How',\n",
              " 'quickly',\n",
              " 'move',\n",
              " 'artillery',\n",
              " 'forward',\n",
              " 'horses',\n",
              " 'feeding',\n",
              " 'as',\n",
              " 'may',\n",
              " 'observe',\n",
              " 'Coghill',\n",
              " \"'ll\",\n",
              " 'little',\n",
              " 'while',\n",
              " 'fed',\n",
              " 'or',\n",
              " 'hungry',\n",
              " 'Pulleine',\n",
              " 'them',\n",
              " 'position',\n",
              " 'immediately',\n",
              " 'Right',\n",
              " 'Bombardier',\n",
              " 'please',\n",
              " 'see',\n",
              " 'issued',\n",
              " 'each',\n",
              " 'Martini',\n",
              " 'Henry',\n",
              " 'Carbine',\n",
              " 'quota',\n",
              " 'Native',\n",
              " 'contingencies',\n",
              " 'rifle',\n",
              " 'ten',\n",
              " 'five',\n",
              " 'rounds',\n",
              " 'per',\n",
              " 'will',\n",
              " 'they',\n",
              " 'use',\n",
              " 'strange',\n",
              " 'name',\n",
              " 'newspaper',\n",
              " 'chap',\n",
              " 'called',\n",
              " 'Er',\n",
              " 'Noggs',\n",
              " 'Actual',\n",
              " 'is',\n",
              " 'NorrisNewman',\n",
              " 'He',\n",
              " 'presented',\n",
              " 'credentials',\n",
              " 'from',\n",
              " '``',\n",
              " 'Standard',\n",
              " 'runners',\n",
              " 'bare',\n",
              " 'his',\n",
              " 'dispatches',\n",
              " 'enemy',\n",
              " 'activity',\n",
              " 'come',\n",
              " 'direction',\n",
              " 'Royal',\n",
              " 'Kraal',\n",
              " 'Ulundi',\n",
              " 'Thank',\n",
              " 'A',\n",
              " 'large',\n",
              " 'party',\n",
              " 'Zulus',\n",
              " 'sighted',\n",
              " 'King',\n",
              " 'KraaL',\n",
              " 'Getting',\n",
              " 'up',\n",
              " 'CHELMSFORD',\n",
              " 'moves',\n",
              " 'look',\n",
              " 'map',\n",
              " 'desk',\n",
              " 'Splendid',\n",
              " 'site',\n",
              " 'Crealock',\n",
              " 'splendil',\n",
              " 'establish',\n",
              " 'Camp',\n",
              " 'here',\n",
              " 'Certainly',\n",
              " 'Sin',\n",
              " 'horsemanship',\n",
              " 'Who',\n",
              " 'My',\n",
              " 'Christians',\n",
              " 'alL',\n",
              " 'know',\n",
              " 'by',\n",
              " 'They',\n",
              " 'well',\n",
              " 'recommended',\n",
              " 'DURNFORD',\n",
              " 'Oh',\n",
              " 'indeed',\n",
              " 'should',\n",
              " 'has',\n",
              " 'Officer',\n",
              " 'hard',\n",
              " 'riders',\n",
              " 'Perhaps',\n",
              " 'subaltern',\n",
              " 'Twenty',\n",
              " 'Fourth',\n",
              " 'thought',\n",
              " 'more',\n",
              " 'effective',\n",
              " 'find',\n",
              " 'speaks',\n",
              " 'Zulu',\n",
              " 'Excellent',\n",
              " 'Give',\n",
              " 'would',\n",
              " 'This',\n",
              " 'list',\n",
              " 'was',\n",
              " 'prepared',\n",
              " 'don',\n",
              " \"'t\",\n",
              " 'another',\n",
              " 'understand',\n",
              " 'its',\n",
              " 'true',\n",
              " 'value',\n",
              " 'intended',\n",
              " 'bring',\n",
              " 'reserves',\n",
              " 'across',\n",
              " 'received',\n",
              " 'intelligence',\n",
              " 'sources',\n",
              " 'own',\n",
              " 'Impis',\n",
              " 'moving',\n",
              " 'North',\n",
              " 'threaten',\n",
              " 'left',\n",
              " 'Intelligence',\n",
              " 'Sources',\n",
              " 'Did',\n",
              " 'occur',\n",
              " 'native',\n",
              " 'Rumours',\n",
              " 'draw',\n",
              " 'off',\n",
              " 'leave',\n",
              " 'whole',\n",
              " 'ofNatal',\n",
              " 'open',\n",
              " 'possible',\n",
              " 'counter',\n",
              " 'thrust',\n",
              " 'Are',\n",
              " 'dictating',\n",
              " 'strategy',\n",
              " 'this',\n",
              " 'war',\n",
              " 'explaining',\n",
              " 'reasons',\n",
              " 'Tomorrow',\n",
              " 'continue',\n",
              " 'our',\n",
              " 'advance',\n",
              " 'kindly',\n",
              " 'return',\n",
              " 'unit',\n",
              " 'Bring',\n",
              " 'support',\n",
              " 'join',\n",
              " 'ADC',\n",
              " 'clearly',\n",
              " 'threat',\n",
              " 'invasion',\n",
              " 'longer',\n",
              " 'exists',\n",
              " '40',\n",
              " 'An',\n",
              " 'historical',\n",
              " 'moment',\n",
              " 'Excuse',\n",
              " 'saw',\n",
              " 'lead',\n",
              " 'Cavalry',\n",
              " 'sir',\n",
              " 'Indeedldid',\n",
              " 'MyLord',\n",
              " 'Itwas',\n",
              " 'ofthe',\n",
              " 'first',\n",
              " 'cross',\n",
              " 'Were',\n",
              " 'heart',\n",
              " 'entered',\n",
              " 'territory',\n",
              " 'spurred',\n",
              " 'onto',\n",
              " 'high',\n",
              " 'ground',\n",
              " 'full',\n",
              " 'spirit',\n",
              " 'Full',\n",
              " 'sport',\n",
              " 'were',\n",
              " 'Tell',\n",
              " 'what',\n",
              " 'Write',\n",
              " 'sure',\n",
              " 'get',\n",
              " 'If',\n",
              " 'got',\n",
              " 'into',\n",
              " 'Zululand',\n",
              " 'all',\n",
              " 'around',\n",
              " 'but',\n",
              " 'why',\n",
              " 'question',\n",
              " 'readers',\n",
              " 'ask',\n",
              " 'confuse',\n",
              " 'yourse',\n",
              " 'fi',\n",
              " 'We',\n",
              " 'must',\n",
              " 'strike',\n",
              " 'heavy',\n",
              " 'blow',\n",
              " 'manoeuvre',\n",
              " 'defence',\n",
              " 'let',\n",
              " 'hope',\n",
              " 'Cetshwayo',\n",
              " 'offer',\n",
              " 'destruction',\n",
              " 'fear',\n",
              " 'avoid',\n",
              " 'engagement',\n",
              " \"o'clock\",\n",
              " 'Eleven',\n",
              " 'LorJ',\n",
              " '42',\n",
              " 'friend',\n",
              " 'minute',\n",
              " 'approaching',\n",
              " 'eat',\n",
              " 'scout',\n",
              " 'mountain',\n",
              " 'top',\n",
              " 'appetite',\n",
              " 'hour',\n",
              " '.',\n",
              " 'Will',\n",
              " 'Last',\n",
              " 'Post',\n",
              " 'listened',\n",
              " 'extra',\n",
              " 'careful',\n",
              " 'Stand',\n",
              " 'To',\n",
              " 'mornin',\n",
              " 'Boy',\n",
              " 'peifecL',\n",
              " \"n't\",\n",
              " 'done',\n",
              " 'better',\n",
              " 'meseif',\n",
              " 'even',\n",
              " 'when',\n",
              " 'Bugler',\n",
              " 'Duke',\n",
              " 'Of',\n",
              " 'Wellington',\n",
              " '..',\n",
              " '.now',\n",
              " 'tell',\n",
              " 'where',\n",
              " 'did',\n",
              " 'black',\n",
              " 'From',\n",
              " 'Cook',\n",
              " 'dip',\n",
              " 'shaving',\n",
              " 'tin',\n",
              " 'teawater',\n",
              " 'morning',\n",
              " 'made',\n",
              " 'tea',\n",
              " 'taste',\n",
              " 'Lifebuoy',\n",
              " 'toilet',\n",
              " 'soap',\n",
              " 'saij',\n",
              " 'Handing',\n",
              " 'him',\n",
              " 'bottle',\n",
              " 'gin',\n",
              " 'purloined',\n",
              " 'earlier',\n",
              " '2t',\n",
              " 'line',\n",
              " 'dooty',\n",
              " 'point',\n",
              " 'taken',\n",
              " 'fighting',\n",
              " 'soo~',\n",
              " 'Quartermaster',\n",
              " 'Could',\n",
              " 'Across',\n",
              " 'just',\n",
              " 'waiting',\n",
              " 'us',\n",
              " 'show',\n",
              " '.them',\n",
              " 'stabbing',\n",
              " 'assegais',\n",
              " 'pointing',\n",
              " 'bellies',\n",
              " '....',\n",
              " 'afeared',\n",
              " 'then',\n",
              " 'One',\n",
              " 'thousands',\n",
              " 'like',\n",
              " 'wave',\n",
              " 'death',\n",
              " 'wear',\n",
              " 'shoes',\n",
              " 'trousers',\n",
              " 'mean',\n",
              " 'say',\n",
              " 'brains',\n",
              " 'watch',\n",
              " 'wait',\n",
              " 'weaknesses',\n",
              " 'Food',\n",
              " 'reservation',\n",
              " 'sorry',\n",
              " 'seat',\n",
              " 'Drink',\n",
              " 'siree',\n",
              " 'yo',\n",
              " 'skip',\n",
              " 'maloo',\n",
              " 'Foooooood',\n",
              " 'Now',\n",
              " 'need',\n",
              " 'roughhousing',\n",
              " 'Have',\n",
              " 'ever',\n",
              " 'tried',\n",
              " 'tip',\n",
              " 'GRRRHMMNNNJKJMMMNN',\n",
              " 'Franz',\n",
              " 'Help',\n",
              " 'Lunatic',\n",
              " 'No',\n",
              " 'sound',\n",
              " 'else',\n",
              " 'down',\n",
              " 'His',\n",
              " 'schwanzstucker',\n",
              " 'Whew',\n",
              " 'nineteeninch',\n",
              " 'drill',\n",
              " 'working',\n",
              " 'Doctor',\n",
              " 'play',\n",
              " 'beautifully',\n",
              " 'theme',\n",
              " \"'Doctor\",\n",
              " 'Zhivago',\n",
              " 'getting',\n",
              " 'tired',\n",
              " 'turn',\n",
              " 'long',\n",
              " 'day',\n",
              " 'Look',\n",
              " 'how',\n",
              " 'ca',\n",
              " 'expect',\n",
              " 'iron',\n",
              " 'out',\n",
              " 'kinks',\n",
              " 'night',\n",
              " 'doctor',\n",
              " 'genius',\n",
              " 'Igor',\n",
              " 'certainly',\n",
              " 'Frau',\n",
              " 'Blucher',\n",
              " 'said',\n",
              " 'allow',\n",
              " 'seven',\n",
              " 'minutes',\n",
              " 'less',\n",
              " 'both',\n",
              " 'become',\n",
              " 'hopelessly',\n",
              " 'paralyzed',\n",
              " 'so',\n",
              " 'Four',\n",
              " 'Three',\n",
              " 'go',\n",
              " \"d'ya\",\n",
              " 'kill',\n",
              " 'time',\n",
              " 'afraid',\n",
              " 'ends',\n",
              " 'monster',\n",
              " 'brain',\n",
              " 'absolutely',\n",
              " 'certain',\n",
              " 'took',\n",
              " 'Hans',\n",
              " 'Delbruck',\n",
              " 'Absolutely',\n",
              " 'May',\n",
              " 'mother',\n",
              " 'grow',\n",
              " 'two',\n",
              " 'heads',\n",
              " 'if',\n",
              " 'telling',\n",
              " 'truth',\n",
              " 'INGA',\n",
              " '+++',\n",
              " 'Sounds',\n",
              " 'visitors',\n",
              " 'tenthirty',\n",
              " 'clock',\n",
              " 'Hurry',\n",
              " 'Another',\n",
              " 'fifteen',\n",
              " 'seconds',\n",
              " 'Something',\n",
              " 'Stall',\n",
              " 'Extremely',\n",
              " 'nice',\n",
              " 'pleasant',\n",
              " 'trip',\n",
              " 'thank',\n",
              " 'bad',\n",
              " 'roll',\n",
              " 'hay',\n",
              " 'drift',\n",
              " 'Sometimes',\n",
              " 'lightning',\n",
              " 'Just',\n",
              " 'atmospheric',\n",
              " 'discharge',\n",
              " 'Nothing',\n",
              " 'busy',\n",
              " 'dear',\n",
              " 'lie',\n",
              " 'bed',\n",
              " 'sleep',\n",
              " 'arrived',\n",
              " 'few',\n",
              " 'ago',\n",
              " 'usually',\n",
              " 'fall',\n",
              " 'asleep',\n",
              " 'away',\n",
              " 'room',\n",
              " 'till',\n",
              " 'sleepy',\n",
              " 'Then',\n",
              " 'force',\n",
              " 'suppose',\n",
              " 'Would',\n",
              " 'sandwich',\n",
              " 'thanks',\n",
              " 'finish',\n",
              " 'unpacking',\n",
              " 'Inga',\n",
              " 'any',\n",
              " 'noise',\n",
              " 'wake',\n",
              " 'Is',\n",
              " 'something',\n",
              " 'wrong',\n",
              " 'Listen',\n",
              " 'music',\n",
              " 'woke',\n",
              " 'Dr',\n",
              " 'Fronkonsteen',\n",
              " 'Whatever',\n",
              " 'coming',\n",
              " 'going',\n",
              " 'Let',\n",
              " 'alone',\n",
              " 'All',\n",
              " 'quietly',\n",
              " 'Close',\n",
              " 'robe',\n",
              " 'behind',\n",
              " 'Ooh',\n",
              " 'filthy',\n",
              " 'mess',\n",
              " 'explains',\n",
              " 'playing',\n",
              " \"'As\",\n",
              " 'minuteness',\n",
              " 'parts',\n",
              " 'formed',\n",
              " 'great',\n",
              " 'hindrance',\n",
              " 'speed',\n",
              " 'resolved',\n",
              " 'Creature',\n",
              " 'gigantic',\n",
              " 'stature',\n",
              " 'course',\n",
              " 'simplify',\n",
              " 'everything',\n",
              " \"'Dilation\",\n",
              " 'sacral',\n",
              " 'parasympathetic',\n",
              " 'impulses',\n",
              " 'cause',\n",
              " 'increase',\n",
              " 'flow',\n",
              " 'blood',\n",
              " 'erection',\n",
              " 'approximately',\n",
              " 'nineteen',\n",
              " 'inches',\n",
              " 'apparatus',\n",
              " 'genitals',\n",
              " 'Soon',\n",
              " 'electrical',\n",
              " 'secrets',\n",
              " 'Heaven',\n",
              " 'shall',\n",
              " 'mine',\n",
              " 'Frederick',\n",
              " 'almost',\n",
              " 'god',\n",
              " 'Raise',\n",
              " 'platform',\n",
              " 'hurry',\n",
              " 'Reputation',\n",
              " 'wonderful',\n",
              " 'followed',\n",
              " 'notes',\n",
              " 'letter',\n",
              " 'master',\n",
              " 'Alive',\n",
              " 'defeated',\n",
              " 'looks',\n",
              " 'way',\n",
              " 'carry',\n",
              " 'sing',\n",
              " 'Me',\n",
              " 'Sing',\n",
              " 'nervous',\n",
              " 'finals',\n",
              " 'daring',\n",
              " \"'The\",\n",
              " 'Continental',\n",
              " 'dancing',\n",
              " 'really',\n",
              " 'ultra',\n",
              " 'new',\n",
              " 'very',\n",
              " 'subtle',\n",
              " 'passion',\n",
              " 'Conti',\n",
              " 'nental',\n",
              " 'Stop',\n",
              " 'singing',\n",
              " 'give',\n",
              " 'serious',\n",
              " 'sedative',\n",
              " 'than',\n",
              " 'Wonderful',\n",
              " 'terrible',\n",
              " 'Terrible',\n",
              " 'passing',\n",
              " 'through',\n",
              " 'seem',\n",
              " 'lonely',\n",
              " 'physical',\n",
              " 'loneliness',\n",
              " 'pangs',\n",
              " 'missing',\n",
              " 'intellectually',\n",
              " 'missed',\n",
              " 'too',\n",
              " 'price',\n",
              " 'society',\n",
              " 'demands',\n",
              " 'fidelity',\n",
              " 'ultimately',\n",
              " 'Not',\n",
              " 'fooling',\n",
              " 'physically',\n",
              " 'Or',\n",
              " 'never',\n",
              " 'anything',\n",
              " 'between',\n",
              " 'fair',\n",
              " 'Elizabeth',\n",
              " 'Nor',\n",
              " 'feelings',\n",
              " 'hurt',\n",
              " 'yours',\n",
              " 'hers',\n",
              " 'after',\n",
              " 'talk',\n",
              " 'inside',\n",
              " 'perhaps',\n",
              " 'her',\n",
              " 'help',\n",
              " 'remain',\n",
              " 'faithful',\n",
              " 'intellectual',\n",
              " 'relationship',\n",
              " 'often',\n",
              " 'wanted',\n",
              " 'times',\n",
              " 'lamp',\n",
              " 'sweetheart',\n",
              " 'MMmmm',\n",
              " 'MMMMmmmmm',\n",
              " 'sweetie',\n",
              " 'heard',\n",
              " 'ready',\n",
              " 'meine',\n",
              " 'Liebe',\n",
              " 'Ready',\n",
              " 'Fuchsmachen',\n",
              " 'MMMMMMmmmmmmmmm',\n",
              " 'love',\n",
              " 'excited',\n",
              " 'Come',\n",
              " 'Apfelstrudel',\n",
              " 'arms',\n",
              " 'hold',\n",
              " 'Sweetheart',\n",
              " '.....',\n",
              " 'MMMMMMMMMMMMMMmmmmmmmmmmmmmmm',\n",
              " 'tune',\n",
              " 'Zis',\n",
              " 'old',\n",
              " 'Transylvanian',\n",
              " 'Lullaby',\n",
              " 'sweet',\n",
              " 'Such',\n",
              " 'quaint',\n",
              " 'violin',\n",
              " 'honor',\n",
              " 'Nice',\n",
              " 'balance',\n",
              " 'Ja',\n",
              " 'ja',\n",
              " 'MMMMMMMMMMMMMNNNNNNmmmmmmmm',\n",
              " 'alive',\n",
              " 'Hello',\n",
              " 'MMMMMmmmmmmm',\n",
              " 'MMMmmmmmmmm',\n",
              " 'untie',\n",
              " 'MMMmmmm',\n",
              " 'set',\n",
              " 'free',\n",
              " 'breathing',\n",
              " 'standing',\n",
              " 'Get',\n",
              " 'Poo',\n",
              " 'tmmm',\n",
              " 'anngh',\n",
              " 'ma',\n",
              " 'Ritz',\n",
              " \"Diff'rent\",\n",
              " 'types',\n",
              " 'coat',\n",
              " 'pants',\n",
              " 'stripes',\n",
              " 'cutaway',\n",
              " 'perfect',\n",
              " 'fits',\n",
              " '.........................',\n",
              " 'Dressed',\n",
              " 'million',\n",
              " 'dollar',\n",
              " 'trouper',\n",
              " 'Trying',\n",
              " 'Gary',\n",
              " 'Cooper',\n",
              " 'Soo',\n",
              " 'pah',\n",
              " 'doo',\n",
              " 'MMMMMMMMMMMMMMMMMMMMmmmmm',\n",
              " 'Super',\n",
              " 'duper',\n",
              " 'mix',\n",
              " 'Rock',\n",
              " 'efellers',\n",
              " 'walk',\n",
              " 'sticks',\n",
              " \"'umber\",\n",
              " 'ellas',\n",
              " 'mitts',\n",
              " 'MMMMMMMMMMMMMMMMMMmmmmmmmmmmm',\n",
              " 'For',\n",
              " 'God',\n",
              " 'sake',\n",
              " 'trying',\n",
              " 'fool',\n",
              " 'amateur',\n",
              " 'MMMMMMMMMM',\n",
              " 'MMMMMMMMMMMM',\n",
              " 'Wait',\n",
              " 'satisfaction',\n",
              " 'tough',\n",
              " 'throw',\n",
              " 'now',\n",
              " 'MMMmmmmmm',\n",
              " 'judging',\n",
              " 'Bucharest',\n",
              " 'always',\n",
              " 'hick',\n",
              " 'town',\n",
              " \"'Bus\",\n",
              " 'Truck',\n",
              " 'company',\n",
              " 'these',\n",
              " 'idiots',\n",
              " 'stand',\n",
              " 'dignity',\n",
              " 'finger',\n",
              " 'beer',\n",
              " 'bloated',\n",
              " 'bodies',\n",
              " 'put',\n",
              " 'together',\n",
              " 'Frankenstein',\n",
              " 'Fron',\n",
              " 'kon',\n",
              " 'steen',\n",
              " 'putting',\n",
              " 'pronounced',\n",
              " 'also',\n",
              " 'Fro',\n",
              " 'dereck',\n",
              " 'Fred',\n",
              " 'ereck',\n",
              " 'Frodereck',\n",
              " 'Fronkon',\n",
              " 'Fredereck',\n",
              " 'Aye',\n",
              " 'gor',\n",
              " 'told',\n",
              " 'Ee',\n",
              " 'sent',\n",
              " 'Herr',\n",
              " 'Falkstein',\n",
              " 'grandfather',\n",
              " 'used',\n",
              " 'pal',\n",
              " 'lot',\n",
              " 'laughs',\n",
              " 'assistant',\n",
              " 'temporarily',\n",
              " 'bags',\n",
              " 'Incidentally',\n",
              " 'embarrass',\n",
              " 'rather',\n",
              " 'brilliant',\n",
              " 'surgeon',\n",
              " 'hump',\n",
              " 'beg',\n",
              " 'pardon',\n",
              " 'wolf',\n",
              " 'castle',\n",
              " 'talking',\n",
              " 'Suit',\n",
              " 'easy',\n",
              " 'Better',\n",
              " 'wockers',\n",
              " 'knockers',\n",
              " 'Wockers',\n",
              " 'Go',\n",
              " 'ahead',\n",
              " 'dumb',\n",
              " 'lose',\n",
              " 'sockers',\n",
              " 'fockers',\n",
              " 'Home',\n",
              " 'Down',\n",
              " 'beasts',\n",
              " 'wonder',\n",
              " 'Ayegor',\n",
              " 'Froderick',\n",
              " 'doing',\n",
              " 'frightened',\n",
              " 'upstairs',\n",
              " 'came',\n",
              " 'some',\n",
              " 'nothing',\n",
              " 'lights',\n",
              " 'place',\n",
              " 'Two',\n",
              " 'switches',\n",
              " 'anyone',\n",
              " 'light',\n",
              " 'steel',\n",
              " 'door',\n",
              " 'Must',\n",
              " 'private',\n",
              " 'library',\n",
              " \"'How\",\n",
              " 'title',\n",
              " 'Funny',\n",
              " 'lying',\n",
              " 'table',\n",
              " 'kind',\n",
              " 'dribble',\n",
              " 'Taking',\n",
              " 'book',\n",
              " 'along',\n",
              " 'laugh',\n",
              " 'job',\n",
              " ...]"
            ]
          },
          "metadata": {},
          "execution_count": 136
        }
      ]
    },
    {
      "cell_type": "markdown",
      "source": [
        "# **Edit Distance**"
      ],
      "metadata": {
        "id": "ZEPaLV1wLthY"
      }
    },
    {
      "cell_type": "code",
      "source": [
        "def editDistance(str1, str2):\n",
        " \n",
        "    len1 = len(str1)\n",
        "    len2 = len(str2)\n",
        "\n",
        "    DP = [[0 for i in range(len1 + 1)]\n",
        "             for j in range(2)];\n",
        " \n",
        "    for i in range(0, len1 + 1):\n",
        "        DP[0][i] = i\n",
        " \n",
        "    for i in range(1, len2 + 1):\n",
        "        for j in range(0, len1 + 1):\n",
        "\n",
        "            if (j == 0):\n",
        "                DP[i % 2][j] = i\n",
        "            elif(str1[j - 1] == str2[i-1]):\n",
        "                DP[i % 2][j] = DP[(i - 1) % 2][j - 1]\n",
        "            else:\n",
        "                DP[i % 2][j] = (1 + min(DP[(i - 1) % 2][j], min(DP[i % 2][j - 1], DP[(i - 1) % 2][j - 1])))\n",
        "             \n",
        "    return DP[len2 % 2][len1]"
      ],
      "metadata": {
        "id": "XOE0OPydLx7W"
      },
      "execution_count": null,
      "outputs": []
    },
    {
      "cell_type": "markdown",
      "source": [
        "# **Double Metaphone**"
      ],
      "metadata": {
        "id": "4aHI7J07EEBs"
      }
    },
    {
      "cell_type": "code",
      "source": [
        "!pip install git+https://github.com/oubiwann/metaphone.git"
      ],
      "metadata": {
        "colab": {
          "base_uri": "https://localhost:8080/"
        },
        "id": "wp7T4ohoJ9DR",
        "outputId": "a302b267-359c-4b29-8b40-746b3474aa08"
      },
      "execution_count": null,
      "outputs": [
        {
          "output_type": "stream",
          "name": "stdout",
          "text": [
            "Looking in indexes: https://pypi.org/simple, https://us-python.pkg.dev/colab-wheels/public/simple/\n",
            "Collecting git+https://github.com/oubiwann/metaphone.git\n",
            "  Cloning https://github.com/oubiwann/metaphone.git to /tmp/pip-req-build-rsyl59ao\n",
            "  Running command git clone -q https://github.com/oubiwann/metaphone.git /tmp/pip-req-build-rsyl59ao\n"
          ]
        }
      ]
    },
    {
      "cell_type": "code",
      "source": [
        "\n",
        "# -*- coding: utf-8 -*-\n",
        "from metaphone import doublemetaphone\n",
        "from enum import Enum\n",
        "\n",
        "class Threshold(Enum):\n",
        "    WEAK = 0\n",
        "    NORMAL = 1\n",
        "    STRONG = 2\n",
        "\n",
        "def double_metaphone(value):\n",
        "    print(doublemetaphone(value))\n",
        "    return doublemetaphone(value)\n",
        "\n",
        "#(Primary Key = Primary Key) = Strongest Match\n",
        "#(Secondary Key = Primary Key) = Normal Match\n",
        "#(Primary Key = Secondary Key) = Normal Match\n",
        "#(Alternate Key = Alternate Key) = Minimal Match\n",
        "def double_metaphone_compare(tuple1,tuple2,threshold):\n",
        "    if threshold == Threshold.WEAK:\n",
        "        if tuple1[1] == tuple2[1]:\n",
        "            return True\n",
        "    elif threshold == Threshold.NORMAL:\n",
        "        if tuple1[0] == tuple2[1] or tuple1[1] == tuple2[0]:\n",
        "            return True\n",
        "    else:\n",
        "        if tuple1[0] == tuple2[0]:\n",
        "            return True\n",
        "    return False"
      ],
      "metadata": {
        "id": "VnkQhRLuHLf3"
      },
      "execution_count": null,
      "outputs": []
    },
    {
      "cell_type": "code",
      "source": [
        "def phonetic_edit_dist(s1,s2):\n",
        "  t1=doublemetaphone(s1)\n",
        "  t2=doublemetaphone(s2)\n",
        "  return editDistance(t1[0],t2[0])"
      ],
      "metadata": {
        "id": "Ui_z97pvVGAN"
      },
      "execution_count": null,
      "outputs": []
    },
    {
      "cell_type": "code",
      "source": [
        "def phonetic_dist_check(s1,s2,threshold):\n",
        "  dist=phonetic_edit_dist(s1,s2)\n",
        "  if dist<=threshold:\n",
        "    return True\n",
        "  else: \n",
        "    return False"
      ],
      "metadata": {
        "id": "GsEsVkzFWyWt"
      },
      "execution_count": null,
      "outputs": []
    },
    {
      "cell_type": "code",
      "source": [
        "ts1=\"u\"\n",
        "ts2=\"you\"\n",
        "double_metaphone(ts1)\n",
        "double_metaphone(ts2)\n",
        "print(phonetic_edit_dist(ts1,ts2))\n",
        "print(phonetic_dist_check(ts1,ts2,2))\n",
        "double_metaphone_compare(doublemetaphone(ts1),doublemetaphone(ts2),Threshold.WEAK)"
      ],
      "metadata": {
        "id": "-W156QglLH0C",
        "colab": {
          "base_uri": "https://localhost:8080/"
        },
        "outputId": "2fd16ae1-80e4-4fa2-adc8-c4099a927af9"
      },
      "execution_count": null,
      "outputs": [
        {
          "output_type": "stream",
          "name": "stdout",
          "text": [
            "('A', '')\n",
            "('A', '')\n",
            "0\n",
            "True\n"
          ]
        },
        {
          "output_type": "execute_result",
          "data": {
            "text/plain": [
              "True"
            ]
          },
          "metadata": {},
          "execution_count": 142
        }
      ]
    },
    {
      "cell_type": "markdown",
      "source": [
        "\n",
        "# **Noise Cleaning**"
      ],
      "metadata": {
        "id": "gW67qaj2nU7r"
      }
    },
    {
      "cell_type": "code",
      "source": [
        "def reduce_letter_repetition(word1):\n",
        "  i = 0\n",
        "  j = 0\n",
        "  new_word = \"\"\n",
        "  while(j <= len(word1)):\n",
        "    if(j < len(word1) and word1[i] == word1[j]):\n",
        "      j= j + 1\n",
        "    elif(j-i <=3):\n",
        "      while(1):\n",
        "        if(i == j):\n",
        "          break\n",
        "        new_word += word1[i]\n",
        "        i = i+1\n",
        "      j = j +1\n",
        "    else:\n",
        "      new_word += word1[i] + word1[i] + word1[i]\n",
        "      i=j\n",
        "      j = j + 1\n",
        "      \n",
        "  return new_word\n",
        "#checking\n",
        "reduce_letter_repetition(\"coooooool\")"
      ],
      "metadata": {
        "id": "0WqzUehJr-s3",
        "colab": {
          "base_uri": "https://localhost:8080/",
          "height": 36
        },
        "outputId": "d659572f-6ce6-4764-b2c4-9b779638caef"
      },
      "execution_count": null,
      "outputs": [
        {
          "output_type": "execute_result",
          "data": {
            "text/plain": [
              "'coool'"
            ],
            "application/vnd.google.colaboratory.intrinsic+json": {
              "type": "string"
            }
          },
          "metadata": {},
          "execution_count": 143
        }
      ]
    },
    {
      "cell_type": "code",
      "source": [
        "def get_lev_list(ifword,threshold):\n",
        "  lev_list=[]\n",
        "  for vocab_word in vocab:\n",
        "    if(editDistance(ifword,vocab_word)<=threshold):\n",
        "      lev_list.append(vocab_word)\n",
        "  return lev_list"
      ],
      "metadata": {
        "id": "nLXt-PC-rmoz"
      },
      "execution_count": null,
      "outputs": []
    },
    {
      "cell_type": "code",
      "source": [
        "# checking levlist\n",
        "get_lev_list(\"gome\",2)"
      ],
      "metadata": {
        "id": "7Ul9b9ibtCKg",
        "colab": {
          "base_uri": "https://localhost:8080/"
        },
        "outputId": "991795a8-ced2-44b8-93e0-8f12a9f3d420"
      },
      "execution_count": null,
      "outputs": [
        {
          "output_type": "execute_result",
          "data": {
            "text/plain": [
              "['me',\n",
              " 'good',\n",
              " 'one',\n",
              " 'move',\n",
              " 'name',\n",
              " 'come',\n",
              " 'more',\n",
              " 'got',\n",
              " 'hope',\n",
              " 'done',\n",
              " 'go',\n",
              " 'time',\n",
              " 'woke',\n",
              " 'robe',\n",
              " 'god',\n",
              " 'give',\n",
              " 'love',\n",
              " 'Come',\n",
              " 'gor',\n",
              " 'lose',\n",
              " 'Home',\n",
              " 'came',\n",
              " 'some',\n",
              " 'More',\n",
              " 'mope',\n",
              " 'none',\n",
              " 'owe',\n",
              " 'gone',\n",
              " 'comes',\n",
              " 'Love',\n",
              " 'same',\n",
              " 'goes',\n",
              " 'gon',\n",
              " 'home',\n",
              " 'gene',\n",
              " 'Some',\n",
              " 'hole',\n",
              " 'Mode',\n",
              " 'core',\n",
              " 'Time',\n",
              " 'bomb',\n",
              " 'games',\n",
              " 'game',\n",
              " 'note',\n",
              " 'gave',\n",
              " 'mom',\n",
              " 'homes',\n",
              " 'rope',\n",
              " 'gimp',\n",
              " 'joke',\n",
              " 'pole',\n",
              " 'code',\n",
              " 'wore',\n",
              " 'women',\n",
              " 'Dome',\n",
              " 'Same',\n",
              " 'bone',\n",
              " 'tore',\n",
              " 'lame',\n",
              " 'nose',\n",
              " 'gee',\n",
              " 'dope',\n",
              " 'Move',\n",
              " 'Hope',\n",
              " 'gold',\n",
              " 'goal',\n",
              " 'goat',\n",
              " 'bode',\n",
              " 'gods',\n",
              " 'Code',\n",
              " 'gum',\n",
              " 'hose',\n",
              " 'dime',\n",
              " 'Mom',\n",
              " 'goin',\n",
              " 'Cone',\n",
              " 'cone',\n",
              " 'gosh',\n",
              " 'Name',\n",
              " 'Pom',\n",
              " 'Poms',\n",
              " 'tame',\n",
              " 'cope',\n",
              " 'tone',\n",
              " 'Dom',\n",
              " 'tomb',\n",
              " 'role',\n",
              " 'Comes',\n",
              " 'Nope',\n",
              " 'sore',\n",
              " 'Gone',\n",
              " '1ove',\n",
              " 'None',\n",
              " 'Tomes',\n",
              " 'globe',\n",
              " 'Lose',\n",
              " 'Done',\n",
              " 'comer',\n",
              " 'mole',\n",
              " 'Joke',\n",
              " 'Howe',\n",
              " 'gim',\n",
              " 'Bomb',\n",
              " 'Nole',\n",
              " 'Dame',\n",
              " 'vote',\n",
              " 'Vote',\n",
              " 'gown',\n",
              " 'Women',\n",
              " 'gemme',\n",
              " 'Som',\n",
              " 'pose',\n",
              " 'Tom',\n",
              " 'goose',\n",
              " 'dove',\n",
              " 'Pole',\n",
              " 'om',\n",
              " 'Joe',\n",
              " 'gale',\n",
              " 'golf']"
            ]
          },
          "metadata": {},
          "execution_count": 145
        }
      ]
    },
    {
      "cell_type": "code",
      "source": [
        "def get_phonetic_list(ifword,threshold):\n",
        "  phonetic_list=[]\n",
        "  for vocab_word in vocab:\n",
        "    if(phonetic_dist_check(ifword,vocab_word,threshold)):\n",
        "      phonetic_list.append(vocab_word)\n",
        "  return phonetic_list"
      ],
      "metadata": {
        "id": "kex_F6susj4o"
      },
      "execution_count": null,
      "outputs": []
    },
    {
      "cell_type": "code",
      "source": [
        "# checking phoneticlist\n",
        "get_phonetic_list(\"gome\",1)"
      ],
      "metadata": {
        "id": "sUQSXPrmtcC9",
        "colab": {
          "base_uri": "https://localhost:8080/"
        },
        "outputId": "e5e3ef58-846f-435b-96bd-771ee870c585"
      },
      "execution_count": null,
      "outputs": [
        {
          "output_type": "execute_result",
          "data": {
            "text/plain": [
              "['Good',\n",
              " 'can',\n",
              " \"'m\",\n",
              " 'me',\n",
              " 'my',\n",
              " 'good',\n",
              " 'COGHILL',\n",
              " 'quite',\n",
              " 'coup',\n",
              " 'Um',\n",
              " 'CoghilL',\n",
              " 'Keep',\n",
              " 'may',\n",
              " 'Coghill',\n",
              " 'them',\n",
              " 'quota',\n",
              " 'name',\n",
              " 'come',\n",
              " 'Camp',\n",
              " 'My',\n",
              " 'get',\n",
              " 'got',\n",
              " 'Cook',\n",
              " 'him',\n",
              " 'gin',\n",
              " '.them',\n",
              " 'theme',\n",
              " 'ca',\n",
              " 'become',\n",
              " 'go',\n",
              " 'kill',\n",
              " 'time',\n",
              " 'May',\n",
              " 'grow',\n",
              " 'room',\n",
              " 'cause',\n",
              " 'god',\n",
              " 'carry',\n",
              " 'Me',\n",
              " 'seem',\n",
              " 'Come',\n",
              " 'Get',\n",
              " 'ma',\n",
              " 'coat',\n",
              " 'cutaway',\n",
              " 'Gary',\n",
              " 'God',\n",
              " 'kon',\n",
              " 'gor',\n",
              " 'Go',\n",
              " 'Home',\n",
              " 'came',\n",
              " 'some',\n",
              " 'Hmm',\n",
              " 'Can',\n",
              " 'call',\n",
              " 'guy',\n",
              " \"'em\",\n",
              " \"'yummy\",\n",
              " 'case',\n",
              " 'cue',\n",
              " 'cuckoo',\n",
              " 'common',\n",
              " 'am',\n",
              " 'keys',\n",
              " 'cas',\n",
              " 'key',\n",
              " 'care',\n",
              " 'gone',\n",
              " \"'Ca\",\n",
              " 'Call',\n",
              " 'comes',\n",
              " 'kiss',\n",
              " 'gauze',\n",
              " 'same',\n",
              " 'goes',\n",
              " 'team',\n",
              " 'gon',\n",
              " 'home',\n",
              " 'Gosh',\n",
              " 'Grey',\n",
              " 'car',\n",
              " 'committee',\n",
              " 'cut',\n",
              " 'Some',\n",
              " 'Case',\n",
              " 'core',\n",
              " 'vacuum',\n",
              " 'gain',\n",
              " 'cop',\n",
              " 'clue',\n",
              " 'kid',\n",
              " 'goatee',\n",
              " 'quick',\n",
              " 'gas',\n",
              " 'Time',\n",
              " 'Cairo',\n",
              " 'guys',\n",
              " 'cowboy',\n",
              " 'cool',\n",
              " 'gun',\n",
              " 'games',\n",
              " 'guess',\n",
              " 'kick',\n",
              " 'Guess',\n",
              " 'cams',\n",
              " 'quiet',\n",
              " 'cute',\n",
              " 'comic',\n",
              " 'game',\n",
              " 'crime',\n",
              " 'quit',\n",
              " 'Sam',\n",
              " 'scum',\n",
              " 'Cut',\n",
              " 'keep',\n",
              " '9mm',\n",
              " 'gave',\n",
              " 'Cage',\n",
              " 'mom',\n",
              " 'Gim',\n",
              " 'CTU',\n",
              " 'Ca',\n",
              " 'Gila',\n",
              " 'cat',\n",
              " 'cough',\n",
              " 'Am',\n",
              " 'coop',\n",
              " 'Care',\n",
              " 'scheme',\n",
              " 'Gave',\n",
              " 'cows',\n",
              " 'Quite',\n",
              " 'Im',\n",
              " 'Mm',\n",
              " 'hmm',\n",
              " 'cure',\n",
              " 'code',\n",
              " 'MI6',\n",
              " 'cave',\n",
              " 'M.',\n",
              " 'Dome',\n",
              " 'Same',\n",
              " 'Shame',\n",
              " 'cry',\n",
              " 'Quiet',\n",
              " 'Gale',\n",
              " 'lame',\n",
              " 'Comin',\n",
              " 'vim',\n",
              " 'Em',\n",
              " \"'cause\",\n",
              " 'Catch',\n",
              " 'doom',\n",
              " 'getaway',\n",
              " 'catch',\n",
              " 'Momma',\n",
              " 'shame',\n",
              " 'coffee',\n",
              " 'scream',\n",
              " \"'good\",\n",
              " 'um',\n",
              " 'Got',\n",
              " 'momma',\n",
              " 'Timmy',\n",
              " 'Cows',\n",
              " 'Queen',\n",
              " 'Teemo',\n",
              " 'Kill',\n",
              " 'goal',\n",
              " 'gy',\n",
              " 'Quick',\n",
              " 'tim',\n",
              " 'cor',\n",
              " 'goat',\n",
              " 'camp',\n",
              " 'Gawd',\n",
              " 'Mmmm',\n",
              " 'queen',\n",
              " 'guide',\n",
              " 'crow',\n",
              " 'cage',\n",
              " 'Lem',\n",
              " 'gan',\n",
              " 'Kael',\n",
              " 'coun',\n",
              " 'became',\n",
              " \"ma'am\",\n",
              " \"Ma'am\",\n",
              " 'Ram',\n",
              " 'Jim',\n",
              " 'quarry',\n",
              " 'Code',\n",
              " 'Voom',\n",
              " 'gum',\n",
              " 'coot',\n",
              " 'claim',\n",
              " 'Kelly',\n",
              " 'grim',\n",
              " 'Ken',\n",
              " 'Gail',\n",
              " 'dime',\n",
              " 'calm',\n",
              " 'Umhuh',\n",
              " 'Mom',\n",
              " 'goin',\n",
              " 'Jimmy',\n",
              " 'Guy',\n",
              " 'cuff',\n",
              " 'Cone',\n",
              " 'Miami',\n",
              " 'cab',\n",
              " 'cone',\n",
              " 'Him',\n",
              " 'cushy',\n",
              " 'Lhama',\n",
              " 'gosh',\n",
              " 'Name',\n",
              " 'Pom',\n",
              " 'Meow',\n",
              " 'tame',\n",
              " 'Cosmo',\n",
              " 'summa',\n",
              " 'cum',\n",
              " 'Hmmm',\n",
              " 'cope',\n",
              " 'whom',\n",
              " 'Dom',\n",
              " 'limo',\n",
              " 'cook',\n",
              " 'cup',\n",
              " 'MY',\n",
              " 'GAWD',\n",
              " 'cash',\n",
              " 'Comes',\n",
              " 'Cool',\n",
              " 'Curry',\n",
              " 'crew',\n",
              " 'Mmhmm',\n",
              " 'Cause',\n",
              " 'whim',\n",
              " 'curry',\n",
              " \"'go\",\n",
              " 'Gotcha',\n",
              " 'Gone',\n",
              " \"'Kill\",\n",
              " 'ME',\n",
              " 'Mum',\n",
              " '1egal',\n",
              " 'TIME',\n",
              " 'sum',\n",
              " 'grew',\n",
              " 'gauche',\n",
              " 'Mmm',\n",
              " 'Curie',\n",
              " 'Schumway',\n",
              " 'clay',\n",
              " 'cozy',\n",
              " 'Mmmuh',\n",
              " 'commune',\n",
              " 'cafe',\n",
              " 'Guys',\n",
              " 'coff',\n",
              " 'qua',\n",
              " 'cake',\n",
              " 'kiddo',\n",
              " 'Cafe',\n",
              " 'comer',\n",
              " 'beam',\n",
              " 'GQ',\n",
              " 'cane',\n",
              " 'gal',\n",
              " 'moi',\n",
              " '82M',\n",
              " 'hmmm',\n",
              " 'roomI',\n",
              " 'gim',\n",
              " 'mmm',\n",
              " 'rhyme',\n",
              " 'Calm',\n",
              " 'em',\n",
              " \"to'em\",\n",
              " 'Gemme',\n",
              " 'GUY',\n",
              " 'dam',\n",
              " 'G.I',\n",
              " 'Dame',\n",
              " 'Gate',\n",
              " 'lem',\n",
              " 'gettim',\n",
              " 'gettem',\n",
              " 'Gon',\n",
              " 'gown',\n",
              " 'num',\n",
              " 'GONE',\n",
              " 'copy',\n",
              " 'Kid',\n",
              " 'COMES',\n",
              " 'MOM',\n",
              " 'GAS',\n",
              " 'CAIN',\n",
              " 'COPY',\n",
              " 'H.Q',\n",
              " 'THEM',\n",
              " 'CONE',\n",
              " 'ROOM',\n",
              " 'gemme',\n",
              " 'Amy',\n",
              " 'Cain',\n",
              " 'Room',\n",
              " 'quote',\n",
              " 'Cure',\n",
              " 'Car',\n",
              " 'Som',\n",
              " 'C.I.A',\n",
              " 'im',\n",
              " 'AM',\n",
              " 'Team',\n",
              " 'Commie',\n",
              " 'goddam',\n",
              " \"'M\",\n",
              " 'KILL',\n",
              " 'C4',\n",
              " 'Beam',\n",
              " 'Tom',\n",
              " 'demo',\n",
              " 'goose',\n",
              " 'quell',\n",
              " 'guinea',\n",
              " 'Crime',\n",
              " 'Jaime',\n",
              " 'couch',\n",
              " 'camera',\n",
              " 'aim',\n",
              " 'gut',\n",
              " 'gel',\n",
              " 'om',\n",
              " 'Cat',\n",
              " 'Keith',\n",
              " 'Cub',\n",
              " 'Kiss',\n",
              " 'Cry',\n",
              " 'Mama',\n",
              " 'Boom',\n",
              " 'gale',\n",
              " 'groom',\n",
              " 'Khan',\n",
              " 'grey',\n",
              " 'Gough',\n",
              " 'bum',\n",
              " 'Gay',\n",
              " 'chum',\n",
              " 'Coit',\n",
              " 'Kaye',\n",
              " \"'Code\",\n",
              " 'Kathy',\n",
              " 'Kat',\n",
              " 'Guide',\n",
              " 'GBH',\n",
              " \"'Kathy\",\n",
              " 'sham',\n",
              " \"'grow\"]"
            ]
          },
          "metadata": {},
          "execution_count": 147
        }
      ]
    },
    {
      "cell_type": "code",
      "source": [
        "names = ill_df['Name'].tolist()\n",
        "def check_illformed(ifword,reduced_set):\n",
        "  if(ifword in names):\n",
        "    return False\n",
        "  else:\n",
        "    return True"
      ],
      "metadata": {
        "id": "GwVargQIxkIJ"
      },
      "execution_count": null,
      "outputs": []
    },
    {
      "cell_type": "code",
      "source": [
        "def get_reduced_set(confusion_set,prev_word):\n",
        "  temp_set=confusion_set\n",
        "  sorted(temp_set, key=lambda x: bi_prob(prev_word,x), reverse=True)\n",
        "  num_elements=(len(temp_set))//10\n",
        "  if(num_elements==0):\n",
        "    num_elements=1\n",
        "  reduced_set=temp_set[0:num_elements]\n",
        "  return reduced_set"
      ],
      "metadata": {
        "id": "DhaVLClkxtWi"
      },
      "execution_count": null,
      "outputs": []
    },
    {
      "cell_type": "code",
      "source": [
        "#checking get_reduced_set\n",
        "get_reduced_set([\"column\",\"cool\",\"street\"],\"main\")"
      ],
      "metadata": {
        "id": "Es1fx2Gk6IZj",
        "colab": {
          "base_uri": "https://localhost:8080/"
        },
        "outputId": "f18947ac-bffb-4924-ac09-9c8d9b284d99"
      },
      "execution_count": null,
      "outputs": [
        {
          "output_type": "execute_result",
          "data": {
            "text/plain": [
              "['column']"
            ]
          },
          "metadata": {},
          "execution_count": 150
        }
      ]
    },
    {
      "cell_type": "code",
      "source": [
        "def get_prefix_sub(currword,ifword):\n",
        "  i=0\n",
        "  ans=0\n",
        "  while(i<len(currword) and i<len(ifword)):\n",
        "    if(currword[i]==ifword[i]):\n",
        "      ans=ans+1\n",
        "      i=i+1\n",
        "    else: break\n",
        "  return ans  \n",
        "#checking\n",
        "get_prefix_sub(\"good\",\"goooooood\")"
      ],
      "metadata": {
        "colab": {
          "base_uri": "https://localhost:8080/"
        },
        "id": "TTZ6mPNPZlw7",
        "outputId": "9f6b85d4-42c3-471c-8c87-aa34f916876a"
      },
      "execution_count": null,
      "outputs": [
        {
          "output_type": "execute_result",
          "data": {
            "text/plain": [
              "3"
            ]
          },
          "metadata": {},
          "execution_count": 151
        }
      ]
    },
    {
      "cell_type": "code",
      "source": [
        "def get_suffix_sub(currword,ifword):\n",
        "  i=len(currword)-1\n",
        "  j=len(ifword)-1\n",
        "  ans=0\n",
        "  while(i>=0 and j>=0):\n",
        "    if(currword[i]==ifword[j]):\n",
        "      ans=ans+1\n",
        "      i=i-1\n",
        "      j=j-1\n",
        "    else: break\n",
        "  return ans\n",
        "#checking\n",
        "get_suffix_sub(\"good\",\"goooooood\")"
      ],
      "metadata": {
        "colab": {
          "base_uri": "https://localhost:8080/"
        },
        "id": "ERScjaloZsW1",
        "outputId": "0dd28cff-d398-4279-e3cc-cc72aacdaff6"
      },
      "execution_count": null,
      "outputs": [
        {
          "output_type": "execute_result",
          "data": {
            "text/plain": [
              "3"
            ]
          },
          "metadata": {},
          "execution_count": 152
        }
      ]
    },
    {
      "cell_type": "code",
      "source": [
        "# Dynamic Programming implementation of LCS problem\n",
        "\n",
        "def get_lcs(X, Y):\n",
        "\t# find the length of the strings\n",
        "\tm = len(X)\n",
        "\tn = len(Y)\n",
        "\n",
        "\t# declaring the array for storing the dp values\n",
        "\tL = [[None]*(n + 1) for i in range(m + 1)]\n",
        "\n",
        "\t\"\"\"Following steps build L[m + 1][n + 1] in bottom up fashion\n",
        "\tNote: L[i][j] contains length of LCS of X[0..i-1]\n",
        "\tand Y[0..j-1]\"\"\"\n",
        "\tfor i in range(m + 1):\n",
        "\t\tfor j in range(n + 1):\n",
        "\t\t\tif i == 0 or j == 0 :\n",
        "\t\t\t\tL[i][j] = 0\n",
        "\t\t\telif X[i-1] == Y[j-1]:\n",
        "\t\t\t\tL[i][j] = L[i-1][j-1]+1\n",
        "\t\t\telse:\n",
        "\t\t\t\tL[i][j] = max(L[i-1][j], L[i][j-1])\n",
        "\n",
        "\t# L[m][n] contains the length of LCS of X[0..n-1] & Y[0..m-1]\n",
        "\treturn L[m][n]\n",
        "\n",
        "#checking\n",
        "get_lcs(\"good\",\"goooooood\")"
      ],
      "metadata": {
        "colab": {
          "base_uri": "https://localhost:8080/"
        },
        "id": "ABDoh0S8Zudc",
        "outputId": "78a8986e-6e5d-4a5f-c869-a338d4e1c5c8"
      },
      "execution_count": null,
      "outputs": [
        {
          "output_type": "execute_result",
          "data": {
            "text/plain": [
              "4"
            ]
          },
          "metadata": {},
          "execution_count": 153
        }
      ]
    },
    {
      "cell_type": "code",
      "source": [
        "#the metric by which we will combine the score\n",
        "def combine_score(led,ped,psub,ssub,lcs,freq,ifword,curr_word):\n",
        "  max_len=max(len(ifword),len(curr_word))\n",
        "  led=math.exp(-led)\n",
        "  ped=math.exp(-ped)\n",
        "  lcs=lcs/max_len\n",
        "  psub=psub/max_len\n",
        "  ssub=ssub/max_len\n",
        "  score=led+ped+psub+ssub+lcs+freq\n",
        "  return score\n"
      ],
      "metadata": {
        "id": "37pT-QLUZGmz"
      },
      "execution_count": null,
      "outputs": []
    },
    {
      "cell_type": "code",
      "source": [
        "def get_score(ifword,curr_word,prev_word,i):\n",
        "  lexical_edit_dist=editDistance(curr_word,ifword)\n",
        "  phonemic_edit_dist=phonetic_edit_dist(curr_word,ifword)\n",
        "  prefix_substring=get_prefix_sub(curr_word,ifword)\n",
        "  suffix_substring=get_suffix_sub(curr_word,ifword)\n",
        "  lcs=get_lcs(curr_word,ifword)\n",
        "  freq=bi_prob(prev_word,curr_word)\n",
        "  # prob\n",
        "  score=combine_score(lexical_edit_dist,phonemic_edit_dist,prefix_substring,suffix_substring,lcs,freq,ifword,curr_word)\n",
        "  return score\n",
        "#checking\n",
        "print(get_score(\"colum\",\"column\",\"main\",1))\n",
        "print(get_score(\"cool\",\"column\",\"main\",1))"
      ],
      "metadata": {
        "id": "8Ty8b8tGAhPU",
        "colab": {
          "base_uri": "https://localhost:8080/"
        },
        "outputId": "9e1647c3-8f3f-4bbd-ede7-7deadf95ac56"
      },
      "execution_count": null,
      "outputs": [
        {
          "output_type": "stream",
          "name": "stdout",
          "text": [
            "2.4024255490095516\n",
            "0.9869842554586802\n"
          ]
        }
      ]
    },
    {
      "cell_type": "code",
      "source": [
        "def get_best_word(ifword,reduced_set,prev_word):\n",
        "  ans_score=-1\n",
        "  ans=\"dummy text\"\n",
        "  for i in range(len(reduced_set)):\n",
        "    curr_word=reduced_set[i]\n",
        "    score=get_score(ifword,curr_word,prev_word,i)\n",
        "    if(score>ans_score):\n",
        "      ans=curr_word\n",
        "      ans_score=score\n",
        "  return ans  "
      ],
      "metadata": {
        "id": "QxRuOyC5xzUS"
      },
      "execution_count": null,
      "outputs": []
    },
    {
      "cell_type": "code",
      "source": [
        "def get_replace_word(ifword,sms_list,i):\n",
        "  lev_list=get_lev_list(ifword,2)\n",
        "  phonetic_list=get_phonetic_list(ifword,1)\n",
        "  confusion_set=lev_list+phonetic_list\n",
        "  if(len(confusion_set)==0):\n",
        "    return ifword\n",
        "  # now we reduce the set on the basis of bigram model\n",
        "  #for now skipping 1st word\n",
        "  # if(i==0):\n",
        "  #   return ifword\n",
        "  # in case we dont want to skip word and use unk\n",
        "  if(i==0):\n",
        "    reduced_set=get_reduced_set(confusion_set,\"<unk>\")\n",
        "  else :reduced_set=get_reduced_set(confusion_set,sms_list[i-1])\n",
        "  #checking whether word is ill formed or OOV\n",
        "  if(check_illformed(ifword,reduced_set)==False):\n",
        "    return ifword\n",
        "  #getting best candidate \n",
        "  new_word=get_best_word(ifword,reduced_set,sms_list[i-1])\n",
        "  return new_word\n"
      ],
      "metadata": {
        "id": "Bro8yOcOq0Tq"
      },
      "execution_count": null,
      "outputs": []
    },
    {
      "cell_type": "code",
      "source": [
        "def check_and_replace(sms_word_list):\n",
        "  for i in range(0,len(sms_word_list)):\n",
        "    word = sms_word_list[i]\n",
        "    if(len(word) == 1):\n",
        "      continue\n",
        "        \n",
        "    flag = 0\n",
        "    for vocab_word in vocab:\n",
        "      if(vocab_word == word):\n",
        "        flag = 1;\n",
        "        break;\n",
        "    \n",
        "    if(flag):\n",
        "      continue\n",
        "    word = reduce_letter_repetition(word)\n",
        "    new_word =  get_replace_word(word,sms_word_list,i)\n",
        "    sms_word_list[i] = new_word    "
      ],
      "metadata": {
        "id": "c7xpSUoeoqr_"
      },
      "execution_count": null,
      "outputs": []
    },
    {
      "cell_type": "code",
      "source": [
        "sms_words=['go','to','main','colum']\n",
        "check_and_replace(sms_words)\n",
        "print(sms_words)"
      ],
      "metadata": {
        "colab": {
          "base_uri": "https://localhost:8080/"
        },
        "id": "bGm28obBavNK",
        "outputId": "81d1bf8a-a3ee-48a8-b64b-16f71454f666"
      },
      "execution_count": null,
      "outputs": [
        {
          "output_type": "stream",
          "name": "stdout",
          "text": [
            "['go', 'to', 'main', 'column']\n"
          ]
        }
      ]
    },
    {
      "cell_type": "code",
      "source": [
        "sms_words=['get','cradit','score']\n",
        "check_and_replace(sms_words)\n",
        "print(sms_words)"
      ],
      "metadata": {
        "colab": {
          "base_uri": "https://localhost:8080/"
        },
        "id": "0X-UvUgvbvVa",
        "outputId": "1d860f93-a582-48b2-af06-dc00c923a872"
      },
      "execution_count": null,
      "outputs": [
        {
          "output_type": "stream",
          "name": "stdout",
          "text": [
            "['get', 'credit', 'scored']\n"
          ]
        }
      ]
    },
    {
      "cell_type": "markdown",
      "metadata": {
        "id": "19UoPYemgITc"
      },
      "source": [
        "# **Feature Engineering**\n",
        "*   Handling imbalanced dataset using Oversampling\n",
        "*   Creating new features e.g. word_count, contains_currency_symbol, contains_numbers, etc.\n",
        "\n"
      ]
    },
    {
      "cell_type": "code",
      "metadata": {
        "id": "YUjh1AFEgOab",
        "colab": {
          "base_uri": "https://localhost:8080/"
        },
        "outputId": "df82bc1d-842c-4562-c3d2-3635a7783b1b"
      },
      "source": [
        "# Handling imbalanced dataset using Oversampling\n",
        "only_spam = df[df['label']==1]\n",
        "print('Number of Spam records: {}'.format(only_spam.shape[0]))\n",
        "print('Number of Ham records: {}'.format(df.shape[0]-only_spam.shape[0]))"
      ],
      "execution_count": null,
      "outputs": [
        {
          "output_type": "stream",
          "name": "stdout",
          "text": [
            "Number of Spam records: 747\n",
            "Number of Ham records: 4825\n"
          ]
        }
      ]
    },
    {
      "cell_type": "code",
      "metadata": {
        "id": "EPMQ8YDJgOWH",
        "colab": {
          "base_uri": "https://localhost:8080/"
        },
        "outputId": "47779d04-4b49-4cb9-a5b1-6ecc31fdd797"
      },
      "source": [
        "count = int((df.shape[0]-only_spam.shape[0])/only_spam.shape[0])\n",
        "for i in range(0, count-1):\n",
        "  df = pd.concat([df, only_spam])\n",
        "\n",
        "df.shape"
      ],
      "execution_count": null,
      "outputs": [
        {
          "output_type": "execute_result",
          "data": {
            "text/plain": [
              "(9307, 2)"
            ]
          },
          "metadata": {},
          "execution_count": 162
        }
      ]
    },
    {
      "cell_type": "code",
      "metadata": {
        "id": "oKgIDjAbMsdT",
        "colab": {
          "base_uri": "https://localhost:8080/"
        },
        "outputId": "651a3977-a273-4442-9d69-aeb2f638b668"
      },
      "source": [
        "# Countplot for Spam vs. Ham as balanced dataset\n",
        "plt.figure(figsize=(8,8))\n",
        "g = sns.countplot(x='label', data=df)\n",
        "p = plt.title('Countplot for Spam vs. Ham as balanced dataset')\n",
        "p = plt.xlabel('Is SMS Spam?')\n",
        "p = plt.ylabel('Count')"
      ],
      "execution_count": null,
      "outputs": [
        {
          "output_type": "display_data",
          "data": {
            "text/plain": [
              "<Figure size 576x576 with 1 Axes>"
            ],
            "image/png": "[encoded data removed]"
          },
          "metadata": {
            "needs_background": "light"
          }
        }
      ]
    },
    {
      "cell_type": "code",
      "metadata": {
        "id": "BGyIBoY4NICC"
      },
      "source": [
        "# Creating new feature word_count\n",
        "df['word_count'] = df['message'].apply(lambda x: len(x.split()))"
      ],
      "execution_count": null,
      "outputs": []
    },
    {
      "cell_type": "code",
      "metadata": {
        "id": "Dx2yYqZAU3xj",
        "colab": {
          "base_uri": "https://localhost:8080/"
        },
        "outputId": "1ecba709-1546-4ebb-985b-6fb44dcef342"
      },
      "source": [
        "df.head()"
      ],
      "execution_count": null,
      "outputs": [
        {
          "output_type": "execute_result",
          "data": {
            "text/plain": [
              "   label                                            message  word_count\n",
              "0      0  Go until jurong point, crazy.. Available only ...          20\n",
              "1      0                      Ok lar... Joking wif u oni...           6\n",
              "2      1  Free entry in 2 a wkly comp to win FA Cup fina...          28\n",
              "3      0  U dun say so early hor... U c already then say...          11\n",
              "4      0  Nah I don't think he goes to usf, he lives aro...          13"
            ],
            "text/html": [
              "\n",
              "  <div id=\"df-dddc2f6f-3273-4b3e-a4b1-c647e4f1953e\">\n",
              "    <div class=\"colab-df-container\">\n",
              "      <div>\n",
              "<style scoped>\n",
              "    .dataframe tbody tr th:only-of-type {\n",
              "        vertical-align: middle;\n",
              "    }\n",
              "\n",
              "    .dataframe tbody tr th {\n",
              "        vertical-align: top;\n",
              "    }\n",
              "\n",
              "    .dataframe thead th {\n",
              "        text-align: right;\n",
              "    }\n",
              "</style>\n",
              "<table border=\"1\" class=\"dataframe\">\n",
              "  <thead>\n",
              "    <tr style=\"text-align: right;\">\n",
              "      <th></th>\n",
              "      <th>label</th>\n",
              "      <th>message</th>\n",
              "      <th>word_count</th>\n",
              "    </tr>\n",
              "  </thead>\n",
              "  <tbody>\n",
              "    <tr>\n",
              "      <th>0</th>\n",
              "      <td>0</td>\n",
              "      <td>Go until jurong point, crazy.. Available only ...</td>\n",
              "      <td>20</td>\n",
              "    </tr>\n",
              "    <tr>\n",
              "      <th>1</th>\n",
              "      <td>0</td>\n",
              "      <td>Ok lar... Joking wif u oni...</td>\n",
              "      <td>6</td>\n",
              "    </tr>\n",
              "    <tr>\n",
              "      <th>2</th>\n",
              "      <td>1</td>\n",
              "      <td>Free entry in 2 a wkly comp to win FA Cup fina...</td>\n",
              "      <td>28</td>\n",
              "    </tr>\n",
              "    <tr>\n",
              "      <th>3</th>\n",
              "      <td>0</td>\n",
              "      <td>U dun say so early hor... U c already then say...</td>\n",
              "      <td>11</td>\n",
              "    </tr>\n",
              "    <tr>\n",
              "      <th>4</th>\n",
              "      <td>0</td>\n",
              "      <td>Nah I don't think he goes to usf, he lives aro...</td>\n",
              "      <td>13</td>\n",
              "    </tr>\n",
              "  </tbody>\n",
              "</table>\n",
              "</div>\n",
              "      <button class=\"colab-df-convert\" onclick=\"convertToInteractive('df-dddc2f6f-3273-4b3e-a4b1-c647e4f1953e')\"\n",
              "              title=\"Convert this dataframe to an interactive table.\"\n",
              "              style=\"display:none;\">\n",
              "        \n",
              "  <svg xmlns=\"http://www.w3.org/2000/svg\" height=\"24px\"viewBox=\"0 0 24 24\"\n",
              "       width=\"24px\">\n",
              "    <path d=\"M0 0h24v24H0V0z\" fill=\"none\"/>\n",
              "    <path d=\"M18.56 5.44l.94 2.06.94-2.06 2.06-.94-2.06-.94-.94-2.06-.94 2.06-2.06.94zm-11 1L8.5 8.5l.94-2.06 2.06-.94-2.06-.94L8.5 2.5l-.94 2.06-2.06.94zm10 10l.94 2.06.94-2.06 2.06-.94-2.06-.94-.94-2.06-.94 2.06-2.06.94z\"/><path d=\"M17.41 7.96l-1.37-1.37c-.4-.4-.92-.59-1.43-.59-.52 0-1.04.2-1.43.59L10.3 9.45l-7.72 7.72c-.78.78-.78 2.05 0 2.83L4 21.41c.39.39.9.59 1.41.59.51 0 1.02-.2 1.41-.59l7.78-7.78 2.81-2.81c.8-.78.8-2.07 0-2.86zM5.41 20L4 18.59l7.72-7.72 1.47 1.35L5.41 20z\"/>\n",
              "  </svg>\n",
              "      </button>\n",
              "      \n",
              "  <style>\n",
              "    .colab-df-container {\n",
              "      display:flex;\n",
              "      flex-wrap:wrap;\n",
              "      gap: 12px;\n",
              "    }\n",
              "\n",
              "    .colab-df-convert {\n",
              "      background-color: #E8F0FE;\n",
              "      border: none;\n",
              "      border-radius: 50%;\n",
              "      cursor: pointer;\n",
              "      display: none;\n",
              "      fill: #1967D2;\n",
              "      height: 32px;\n",
              "      padding: 0 0 0 0;\n",
              "      width: 32px;\n",
              "    }\n",
              "\n",
              "    .colab-df-convert:hover {\n",
              "      background-color: #E2EBFA;\n",
              "      box-shadow: 0px 1px 2px rgba(60, 64, 67, 0.3), 0px 1px 3px 1px rgba(60, 64, 67, 0.15);\n",
              "      fill: #174EA6;\n",
              "    }\n",
              "\n",
              "    [theme=dark] .colab-df-convert {\n",
              "      background-color: #3B4455;\n",
              "      fill: #D2E3FC;\n",
              "    }\n",
              "\n",
              "    [theme=dark] .colab-df-convert:hover {\n",
              "      background-color: #434B5C;\n",
              "      box-shadow: 0px 1px 3px 1px rgba(0, 0, 0, 0.15);\n",
              "      filter: drop-shadow(0px 1px 2px rgba(0, 0, 0, 0.3));\n",
              "      fill: #FFFFFF;\n",
              "    }\n",
              "  </style>\n",
              "\n",
              "      <script>\n",
              "        const buttonEl =\n",
              "          document.querySelector('#df-dddc2f6f-3273-4b3e-a4b1-c647e4f1953e button.colab-df-convert');\n",
              "        buttonEl.style.display =\n",
              "          google.colab.kernel.accessAllowed ? 'block' : 'none';\n",
              "\n",
              "        async function convertToInteractive(key) {\n",
              "          const element = document.querySelector('#df-dddc2f6f-3273-4b3e-a4b1-c647e4f1953e');\n",
              "          const dataTable =\n",
              "            await google.colab.kernel.invokeFunction('convertToInteractive',\n",
              "                                                     [key], {});\n",
              "          if (!dataTable) return;\n",
              "\n",
              "          const docLinkHtml = 'Like what you see? Visit the ' +\n",
              "            '<a target=\"_blank\" href=https://colab.research.google.com/notebooks/data_table.ipynb>data table notebook</a>'\n",
              "            + ' to learn more about interactive tables.';\n",
              "          element.innerHTML = '';\n",
              "          dataTable['output_type'] = 'display_data';\n",
              "          await google.colab.output.renderOutput(dataTable, element);\n",
              "          const docLink = document.createElement('div');\n",
              "          docLink.innerHTML = docLinkHtml;\n",
              "          element.appendChild(docLink);\n",
              "        }\n",
              "      </script>\n",
              "    </div>\n",
              "  </div>\n",
              "  "
            ]
          },
          "metadata": {},
          "execution_count": 165
        }
      ]
    },
    {
      "cell_type": "code",
      "metadata": {
        "id": "dRdACe8cONu9",
        "colab": {
          "base_uri": "https://localhost:8080/"
        },
        "outputId": "30a1d5fb-0c6d-4e14-f8d3-8f0cab2a5f49"
      },
      "source": [
        "plt.figure(figsize=(12, 6))\n",
        "\n",
        "# 1-row, 2-column, go to the first subplot\n",
        "plt.subplot(1, 2, 1)\n",
        "g = sns.distplot(a=df[df['label']==0].word_count)\n",
        "p = plt.title('Distribution of word_count for Ham messages')\n",
        "\n",
        "# 1-row, 2-column, go to the second subplot\n",
        "plt.subplot(1, 2, 2)\n",
        "g = sns.distplot(a=df[df['label']==1].word_count, color='red')\n",
        "p = plt.title('Distribution of word_count for Spam messages')\n",
        "\n",
        "plt.tight_layout()\n",
        "plt.show()"
      ],
      "execution_count": null,
      "outputs": [
        {
          "output_type": "stream",
          "name": "stderr",
          "text": [
            "/usr/local/lib/python3.7/dist-packages/seaborn/distributions.py:2619: FutureWarning: `distplot` is a deprecated function and will be removed in a future version. Please adapt your code to use either `displot` (a figure-level function with similar flexibility) or `histplot` (an axes-level function for histograms).\n",
            "  warnings.warn(msg, FutureWarning)\n",
            "/usr/local/lib/python3.7/dist-packages/seaborn/distributions.py:2619: FutureWarning: `distplot` is a deprecated function and will be removed in a future version. Please adapt your code to use either `displot` (a figure-level function with similar flexibility) or `histplot` (an axes-level function for histograms).\n",
            "  warnings.warn(msg, FutureWarning)\n"
          ]
        },
        {
          "output_type": "display_data",
          "data": {
            "text/plain": [
              "<Figure size 864x432 with 2 Axes>"
            ],
            "image/png": "[encoded data removed]"
          },
          "metadata": {
            "needs_background": "light"
          }
        }
      ]
    },
    {
      "cell_type": "markdown",
      "metadata": {
        "id": "aCAT3fDHQKmr"
      },
      "source": [
        "_**Insight:** **Spam messages** word_count fall in the range of **15-30 words**, whereas majority of the **Ham messages** fall in the range of **below 25 words**._"
      ]
    },
    {
      "cell_type": "code",
      "metadata": {
        "id": "Bxntzd8jSEDE"
      },
      "source": [
        "# Creating feature contains_currency_symbol\n",
        "def currency(x):\n",
        "  currency_symbols = ['€', '$', '¥', '£', '₹']\n",
        "  for i in currency_symbols:\n",
        "    if i in x:\n",
        "      return 1\n",
        "  return 0\n",
        "\n",
        "df['contains_currency_symbol'] = df['message'].apply(currency)"
      ],
      "execution_count": null,
      "outputs": []
    },
    {
      "cell_type": "code",
      "metadata": {
        "id": "7lBLNtDiUlDM",
        "colab": {
          "base_uri": "https://localhost:8080/"
        },
        "outputId": "1a4c66d7-5160-45d5-d0d6-0163bbbb306d"
      },
      "source": [
        "df.tail()"
      ],
      "execution_count": null,
      "outputs": [
        {
          "output_type": "execute_result",
          "data": {
            "text/plain": [
              "      label                                            message  word_count  \\\n",
              "5537      1  Want explicit SEX in 30 secs? Ring 02073162414...          16   \n",
              "5540      1  ASKED 3MOBILE IF 0870 CHATLINES INCLU IN FREE ...          33   \n",
              "5547      1  Had your contract mobile 11 Mnths? Latest Moto...          28   \n",
              "5566      1  REMINDER FROM O2: To get 2.50 pounds free call...          28   \n",
              "5567      1  This is the 2nd time we have tried 2 contact u...          30   \n",
              "\n",
              "      contains_currency_symbol  \n",
              "5537                         0  \n",
              "5540                         1  \n",
              "5547                         0  \n",
              "5566                         0  \n",
              "5567                         1  "
            ],
            "text/html": [
              "\n",
              "  <div id=\"df-cd6151aa-35c9-44b4-bd42-2e40c4008e72\">\n",
              "    <div class=\"colab-df-container\">\n",
              "      <div>\n",
              "<style scoped>\n",
              "    .dataframe tbody tr th:only-of-type {\n",
              "        vertical-align: middle;\n",
              "    }\n",
              "\n",
              "    .dataframe tbody tr th {\n",
              "        vertical-align: top;\n",
              "    }\n",
              "\n",
              "    .dataframe thead th {\n",
              "        text-align: right;\n",
              "    }\n",
              "</style>\n",
              "<table border=\"1\" class=\"dataframe\">\n",
              "  <thead>\n",
              "    <tr style=\"text-align: right;\">\n",
              "      <th></th>\n",
              "      <th>label</th>\n",
              "      <th>message</th>\n",
              "      <th>word_count</th>\n",
              "      <th>contains_currency_symbol</th>\n",
              "    </tr>\n",
              "  </thead>\n",
              "  <tbody>\n",
              "    <tr>\n",
              "      <th>5537</th>\n",
              "      <td>1</td>\n",
              "      <td>Want explicit SEX in 30 secs? Ring 02073162414...</td>\n",
              "      <td>16</td>\n",
              "      <td>0</td>\n",
              "    </tr>\n",
              "    <tr>\n",
              "      <th>5540</th>\n",
              "      <td>1</td>\n",
              "      <td>ASKED 3MOBILE IF 0870 CHATLINES INCLU IN FREE ...</td>\n",
              "      <td>33</td>\n",
              "      <td>1</td>\n",
              "    </tr>\n",
              "    <tr>\n",
              "      <th>5547</th>\n",
              "      <td>1</td>\n",
              "      <td>Had your contract mobile 11 Mnths? Latest Moto...</td>\n",
              "      <td>28</td>\n",
              "      <td>0</td>\n",
              "    </tr>\n",
              "    <tr>\n",
              "      <th>5566</th>\n",
              "      <td>1</td>\n",
              "      <td>REMINDER FROM O2: To get 2.50 pounds free call...</td>\n",
              "      <td>28</td>\n",
              "      <td>0</td>\n",
              "    </tr>\n",
              "    <tr>\n",
              "      <th>5567</th>\n",
              "      <td>1</td>\n",
              "      <td>This is the 2nd time we have tried 2 contact u...</td>\n",
              "      <td>30</td>\n",
              "      <td>1</td>\n",
              "    </tr>\n",
              "  </tbody>\n",
              "</table>\n",
              "</div>\n",
              "      <button class=\"colab-df-convert\" onclick=\"convertToInteractive('df-cd6151aa-35c9-44b4-bd42-2e40c4008e72')\"\n",
              "              title=\"Convert this dataframe to an interactive table.\"\n",
              "              style=\"display:none;\">\n",
              "        \n",
              "  <svg xmlns=\"http://www.w3.org/2000/svg\" height=\"24px\"viewBox=\"0 0 24 24\"\n",
              "       width=\"24px\">\n",
              "    <path d=\"M0 0h24v24H0V0z\" fill=\"none\"/>\n",
              "    <path d=\"M18.56 5.44l.94 2.06.94-2.06 2.06-.94-2.06-.94-.94-2.06-.94 2.06-2.06.94zm-11 1L8.5 8.5l.94-2.06 2.06-.94-2.06-.94L8.5 2.5l-.94 2.06-2.06.94zm10 10l.94 2.06.94-2.06 2.06-.94-2.06-.94-.94-2.06-.94 2.06-2.06.94z\"/><path d=\"M17.41 7.96l-1.37-1.37c-.4-.4-.92-.59-1.43-.59-.52 0-1.04.2-1.43.59L10.3 9.45l-7.72 7.72c-.78.78-.78 2.05 0 2.83L4 21.41c.39.39.9.59 1.41.59.51 0 1.02-.2 1.41-.59l7.78-7.78 2.81-2.81c.8-.78.8-2.07 0-2.86zM5.41 20L4 18.59l7.72-7.72 1.47 1.35L5.41 20z\"/>\n",
              "  </svg>\n",
              "      </button>\n",
              "      \n",
              "  <style>\n",
              "    .colab-df-container {\n",
              "      display:flex;\n",
              "      flex-wrap:wrap;\n",
              "      gap: 12px;\n",
              "    }\n",
              "\n",
              "    .colab-df-convert {\n",
              "      background-color: #E8F0FE;\n",
              "      border: none;\n",
              "      border-radius: 50%;\n",
              "      cursor: pointer;\n",
              "      display: none;\n",
              "      fill: #1967D2;\n",
              "      height: 32px;\n",
              "      padding: 0 0 0 0;\n",
              "      width: 32px;\n",
              "    }\n",
              "\n",
              "    .colab-df-convert:hover {\n",
              "      background-color: #E2EBFA;\n",
              "      box-shadow: 0px 1px 2px rgba(60, 64, 67, 0.3), 0px 1px 3px 1px rgba(60, 64, 67, 0.15);\n",
              "      fill: #174EA6;\n",
              "    }\n",
              "\n",
              "    [theme=dark] .colab-df-convert {\n",
              "      background-color: #3B4455;\n",
              "      fill: #D2E3FC;\n",
              "    }\n",
              "\n",
              "    [theme=dark] .colab-df-convert:hover {\n",
              "      background-color: #434B5C;\n",
              "      box-shadow: 0px 1px 3px 1px rgba(0, 0, 0, 0.15);\n",
              "      filter: drop-shadow(0px 1px 2px rgba(0, 0, 0, 0.3));\n",
              "      fill: #FFFFFF;\n",
              "    }\n",
              "  </style>\n",
              "\n",
              "      <script>\n",
              "        const buttonEl =\n",
              "          document.querySelector('#df-cd6151aa-35c9-44b4-bd42-2e40c4008e72 button.colab-df-convert');\n",
              "        buttonEl.style.display =\n",
              "          google.colab.kernel.accessAllowed ? 'block' : 'none';\n",
              "\n",
              "        async function convertToInteractive(key) {\n",
              "          const element = document.querySelector('#df-cd6151aa-35c9-44b4-bd42-2e40c4008e72');\n",
              "          const dataTable =\n",
              "            await google.colab.kernel.invokeFunction('convertToInteractive',\n",
              "                                                     [key], {});\n",
              "          if (!dataTable) return;\n",
              "\n",
              "          const docLinkHtml = 'Like what you see? Visit the ' +\n",
              "            '<a target=\"_blank\" href=https://colab.research.google.com/notebooks/data_table.ipynb>data table notebook</a>'\n",
              "            + ' to learn more about interactive tables.';\n",
              "          element.innerHTML = '';\n",
              "          dataTable['output_type'] = 'display_data';\n",
              "          await google.colab.output.renderOutput(dataTable, element);\n",
              "          const docLink = document.createElement('div');\n",
              "          docLink.innerHTML = docLinkHtml;\n",
              "          element.appendChild(docLink);\n",
              "        }\n",
              "      </script>\n",
              "    </div>\n",
              "  </div>\n",
              "  "
            ]
          },
          "metadata": {},
          "execution_count": 168
        }
      ]
    },
    {
      "cell_type": "code",
      "metadata": {
        "id": "YMZcauWZYHKV",
        "colab": {
          "base_uri": "https://localhost:8080/"
        },
        "outputId": "33d5618b-a288-41fc-fb77-0ed71d3a63c6"
      },
      "source": [
        "# Countplot for contains_currency_symbol\n",
        "plt.figure(figsize=(8,8))\n",
        "g = sns.countplot(x='contains_currency_symbol', data=df, hue='label')\n",
        "p = plt.title('Countplot for contain_currency')\n",
        "p = plt.xlabel('Does SMS contain currency symbol?')\n",
        "p = plt.ylabel('Count')\n",
        "p = plt.legend(labels=['Ham', 'Spam'], loc=9)"
      ],
      "execution_count": null,
      "outputs": [
        {
          "output_type": "display_data",
          "data": {
            "text/plain": [
              "<Figure size 576x576 with 1 Axes>"
            ],
            "image/png": "[encoded data removed]"
          },
          "metadata": {
            "needs_background": "light"
          }
        }
      ]
    },
    {
      "cell_type": "markdown",
      "metadata": {
        "id": "w-fLzXMsYY2N"
      },
      "source": [
        "_**Insight: Almost 1/3 of Spam messages contain currency symbols**, and currency symbols are **rarely used in Ham messages.**_"
      ]
    },
    {
      "cell_type": "code",
      "metadata": {
        "id": "OqgKvMkTVCJL"
      },
      "source": [
        "# Creating feature contains_number\n",
        "def numbers(x):\n",
        "  for i in x:\n",
        "    if ord(i)>=48 and ord(i)<=57:\n",
        "      return 1\n",
        "  return 0\n",
        "\n",
        "df['contains_number'] = df['message'].apply(numbers)"
      ],
      "execution_count": null,
      "outputs": []
    },
    {
      "cell_type": "code",
      "metadata": {
        "id": "dLrxUfDsVmgj",
        "colab": {
          "base_uri": "https://localhost:8080/"
        },
        "outputId": "de9e5a99-adf6-4054-dd50-838ef3fa866c"
      },
      "source": [
        "df.head()"
      ],
      "execution_count": null,
      "outputs": [
        {
          "output_type": "execute_result",
          "data": {
            "text/plain": [
              "   label                                            message  word_count  \\\n",
              "0      0  Go until jurong point, crazy.. Available only ...          20   \n",
              "1      0                      Ok lar... Joking wif u oni...           6   \n",
              "2      1  Free entry in 2 a wkly comp to win FA Cup fina...          28   \n",
              "3      0  U dun say so early hor... U c already then say...          11   \n",
              "4      0  Nah I don't think he goes to usf, he lives aro...          13   \n",
              "\n",
              "   contains_currency_symbol  contains_number  \n",
              "0                         0                0  \n",
              "1                         0                0  \n",
              "2                         0                1  \n",
              "3                         0                0  \n",
              "4                         0                0  "
            ],
            "text/html": [
              "\n",
              "  <div id=\"df-8f7f80da-3b16-4079-a987-7acfdcb5f35f\">\n",
              "    <div class=\"colab-df-container\">\n",
              "      <div>\n",
              "<style scoped>\n",
              "    .dataframe tbody tr th:only-of-type {\n",
              "        vertical-align: middle;\n",
              "    }\n",
              "\n",
              "    .dataframe tbody tr th {\n",
              "        vertical-align: top;\n",
              "    }\n",
              "\n",
              "    .dataframe thead th {\n",
              "        text-align: right;\n",
              "    }\n",
              "</style>\n",
              "<table border=\"1\" class=\"dataframe\">\n",
              "  <thead>\n",
              "    <tr style=\"text-align: right;\">\n",
              "      <th></th>\n",
              "      <th>label</th>\n",
              "      <th>message</th>\n",
              "      <th>word_count</th>\n",
              "      <th>contains_currency_symbol</th>\n",
              "      <th>contains_number</th>\n",
              "    </tr>\n",
              "  </thead>\n",
              "  <tbody>\n",
              "    <tr>\n",
              "      <th>0</th>\n",
              "      <td>0</td>\n",
              "      <td>Go until jurong point, crazy.. Available only ...</td>\n",
              "      <td>20</td>\n",
              "      <td>0</td>\n",
              "      <td>0</td>\n",
              "    </tr>\n",
              "    <tr>\n",
              "      <th>1</th>\n",
              "      <td>0</td>\n",
              "      <td>Ok lar... Joking wif u oni...</td>\n",
              "      <td>6</td>\n",
              "      <td>0</td>\n",
              "      <td>0</td>\n",
              "    </tr>\n",
              "    <tr>\n",
              "      <th>2</th>\n",
              "      <td>1</td>\n",
              "      <td>Free entry in 2 a wkly comp to win FA Cup fina...</td>\n",
              "      <td>28</td>\n",
              "      <td>0</td>\n",
              "      <td>1</td>\n",
              "    </tr>\n",
              "    <tr>\n",
              "      <th>3</th>\n",
              "      <td>0</td>\n",
              "      <td>U dun say so early hor... U c already then say...</td>\n",
              "      <td>11</td>\n",
              "      <td>0</td>\n",
              "      <td>0</td>\n",
              "    </tr>\n",
              "    <tr>\n",
              "      <th>4</th>\n",
              "      <td>0</td>\n",
              "      <td>Nah I don't think he goes to usf, he lives aro...</td>\n",
              "      <td>13</td>\n",
              "      <td>0</td>\n",
              "      <td>0</td>\n",
              "    </tr>\n",
              "  </tbody>\n",
              "</table>\n",
              "</div>\n",
              "      <button class=\"colab-df-convert\" onclick=\"convertToInteractive('df-8f7f80da-3b16-4079-a987-7acfdcb5f35f')\"\n",
              "              title=\"Convert this dataframe to an interactive table.\"\n",
              "              style=\"display:none;\">\n",
              "        \n",
              "  <svg xmlns=\"http://www.w3.org/2000/svg\" height=\"24px\"viewBox=\"0 0 24 24\"\n",
              "       width=\"24px\">\n",
              "    <path d=\"M0 0h24v24H0V0z\" fill=\"none\"/>\n",
              "    <path d=\"M18.56 5.44l.94 2.06.94-2.06 2.06-.94-2.06-.94-.94-2.06-.94 2.06-2.06.94zm-11 1L8.5 8.5l.94-2.06 2.06-.94-2.06-.94L8.5 2.5l-.94 2.06-2.06.94zm10 10l.94 2.06.94-2.06 2.06-.94-2.06-.94-.94-2.06-.94 2.06-2.06.94z\"/><path d=\"M17.41 7.96l-1.37-1.37c-.4-.4-.92-.59-1.43-.59-.52 0-1.04.2-1.43.59L10.3 9.45l-7.72 7.72c-.78.78-.78 2.05 0 2.83L4 21.41c.39.39.9.59 1.41.59.51 0 1.02-.2 1.41-.59l7.78-7.78 2.81-2.81c.8-.78.8-2.07 0-2.86zM5.41 20L4 18.59l7.72-7.72 1.47 1.35L5.41 20z\"/>\n",
              "  </svg>\n",
              "      </button>\n",
              "      \n",
              "  <style>\n",
              "    .colab-df-container {\n",
              "      display:flex;\n",
              "      flex-wrap:wrap;\n",
              "      gap: 12px;\n",
              "    }\n",
              "\n",
              "    .colab-df-convert {\n",
              "      background-color: #E8F0FE;\n",
              "      border: none;\n",
              "      border-radius: 50%;\n",
              "      cursor: pointer;\n",
              "      display: none;\n",
              "      fill: #1967D2;\n",
              "      height: 32px;\n",
              "      padding: 0 0 0 0;\n",
              "      width: 32px;\n",
              "    }\n",
              "\n",
              "    .colab-df-convert:hover {\n",
              "      background-color: #E2EBFA;\n",
              "      box-shadow: 0px 1px 2px rgba(60, 64, 67, 0.3), 0px 1px 3px 1px rgba(60, 64, 67, 0.15);\n",
              "      fill: #174EA6;\n",
              "    }\n",
              "\n",
              "    [theme=dark] .colab-df-convert {\n",
              "      background-color: #3B4455;\n",
              "      fill: #D2E3FC;\n",
              "    }\n",
              "\n",
              "    [theme=dark] .colab-df-convert:hover {\n",
              "      background-color: #434B5C;\n",
              "      box-shadow: 0px 1px 3px 1px rgba(0, 0, 0, 0.15);\n",
              "      filter: drop-shadow(0px 1px 2px rgba(0, 0, 0, 0.3));\n",
              "      fill: #FFFFFF;\n",
              "    }\n",
              "  </style>\n",
              "\n",
              "      <script>\n",
              "        const buttonEl =\n",
              "          document.querySelector('#df-8f7f80da-3b16-4079-a987-7acfdcb5f35f button.colab-df-convert');\n",
              "        buttonEl.style.display =\n",
              "          google.colab.kernel.accessAllowed ? 'block' : 'none';\n",
              "\n",
              "        async function convertToInteractive(key) {\n",
              "          const element = document.querySelector('#df-8f7f80da-3b16-4079-a987-7acfdcb5f35f');\n",
              "          const dataTable =\n",
              "            await google.colab.kernel.invokeFunction('convertToInteractive',\n",
              "                                                     [key], {});\n",
              "          if (!dataTable) return;\n",
              "\n",
              "          const docLinkHtml = 'Like what you see? Visit the ' +\n",
              "            '<a target=\"_blank\" href=https://colab.research.google.com/notebooks/data_table.ipynb>data table notebook</a>'\n",
              "            + ' to learn more about interactive tables.';\n",
              "          element.innerHTML = '';\n",
              "          dataTable['output_type'] = 'display_data';\n",
              "          await google.colab.output.renderOutput(dataTable, element);\n",
              "          const docLink = document.createElement('div');\n",
              "          docLink.innerHTML = docLinkHtml;\n",
              "          element.appendChild(docLink);\n",
              "        }\n",
              "      </script>\n",
              "    </div>\n",
              "  </div>\n",
              "  "
            ]
          },
          "metadata": {},
          "execution_count": 171
        }
      ]
    },
    {
      "cell_type": "code",
      "metadata": {
        "id": "SylEzeOlV0Kj",
        "colab": {
          "base_uri": "https://localhost:8080/"
        },
        "outputId": "59ae4857-5da2-420f-a357-9044e37e0875"
      },
      "source": [
        "# Countplot for contains_number\n",
        "plt.figure(figsize=(8,8))\n",
        "g = sns.countplot(x='contains_number', data=df, hue='label')\n",
        "p = plt.title('Countplot for contain_numbers')\n",
        "p = plt.xlabel('Does SMS contain number?')\n",
        "p = plt.ylabel('Count')\n",
        "p = plt.legend(labels=['Ham', 'Spam'], loc=9)"
      ],
      "execution_count": null,
      "outputs": [
        {
          "output_type": "display_data",
          "data": {
            "text/plain": [
              "<Figure size 576x576 with 1 Axes>"
            ],
            "image/png": "[encoded data removed]"
          },
          "metadata": {
            "needs_background": "light"
          }
        }
      ]
    },
    {
      "cell_type": "markdown",
      "metadata": {
        "id": "fJTf9Z9GXKfN"
      },
      "source": [
        "_**Insight:** It is evident that **most of the Spam messages contain numbers,** and **majority of the Ham messages donot contain numbers.**_"
      ]
    },
    {
      "cell_type": "code",
      "source": [],
      "metadata": {
        "id": "x3a1Gf4wkgyx"
      },
      "execution_count": null,
      "outputs": []
    },
    {
      "cell_type": "markdown",
      "metadata": {
        "id": "uLCtNBBQnRDR"
      },
      "source": [
        "# **Data Cleaning**\n",
        "* Removing special character and numbers using regular expression\n",
        "* Converting the entire sms into lower case\n",
        "* Tokenizing the sms by words\n",
        "* Removing the stop words\n",
        "* Lemmatizing the words\n",
        "* Joining the lemmatized words\n",
        "* Building a corpus of messages"
      ]
    },
    {
      "cell_type": "code",
      "metadata": {
        "id": "d2IlhceAnQb7",
        "colab": {
          "base_uri": "https://localhost:8080/"
        },
        "outputId": "d251ff45-c984-4bcd-f287-650f1663be45"
      },
      "source": [
        "# Importing essential libraries for performing NLP\n",
        "import nltk\n",
        "import re\n",
        "nltk.download('stopwords')\n",
        "nltk.download('wordnet')\n",
        "nltk.download('omw-1.4')\n",
        "from nltk.corpus import stopwords\n",
        "from nltk.stem import WordNetLemmatizer"
      ],
      "execution_count": null,
      "outputs": [
        {
          "output_type": "stream",
          "name": "stderr",
          "text": [
            "[nltk_data] Downloading package stopwords to /root/nltk_data...\n",
            "[nltk_data]   Package stopwords is already up-to-date!\n",
            "[nltk_data] Downloading package wordnet to /root/nltk_data...\n",
            "[nltk_data]   Package wordnet is already up-to-date!\n",
            "[nltk_data] Downloading package omw-1.4 to /root/nltk_data...\n",
            "[nltk_data]   Package omw-1.4 is already up-to-date!\n"
          ]
        }
      ]
    },
    {
      "cell_type": "code",
      "metadata": {
        "id": "GBzPDWYglyeS"
      },
      "source": [
        "# Cleaning the messages\n",
        "corpus = []\n",
        "wnl = WordNetLemmatizer()\n",
        "\n",
        "for sms_string in list(df.message):\n",
        "\n",
        "  # Cleaning special character from the sms\n",
        "  message = re.sub(pattern='[^a-zA-Z]', repl=' ', string=sms_string)\n",
        "\n",
        "  # Converting the entire sms into lower case\n",
        "  message = message.lower()\n",
        "\n",
        "  # Tokenizing the sms by words\n",
        "  words = message.split()\n",
        "\n",
        "  # Removing the stop words\n",
        "  filtered_words = [word for word in words if word not in set(stopwords.words('english'))]\n",
        "\n",
        "  # Removing noise from dataset\n",
        "  check_and_replace(filtered_words)\n",
        "  \n",
        "  # Lemmatizing the words\n",
        "  lemmatized_words = [wnl.lemmatize(word) for word in filtered_words]\n",
        "  \n",
        "\n",
        "  # Joining the lemmatized words\n",
        "  message = ' '.join(lemmatized_words)\n",
        "\n",
        "  # Building a corpus of messages\n",
        "  corpus.append(message)"
      ],
      "execution_count": null,
      "outputs": []
    },
    {
      "cell_type": "code",
      "metadata": {
        "id": "u-qBfMYzpyoS",
        "colab": {
          "base_uri": "https://localhost:8080/"
        },
        "outputId": "037c7721-add5-46b6-e83b-f470285cc758"
      },
      "source": [
        "corpus[0:3]"
      ],
      "execution_count": null,
      "outputs": [
        {
          "output_type": "execute_result",
          "data": {
            "text/plain": [
              "['go jurong point crazy available bugis n great world la e buffet cine got amore wat',\n",
              " 'ok lar joking wif u oni',\n",
              " 'free entry wkly comp win fa cup final tkts st may text fa receive entry question std txt rate c apply']"
            ]
          },
          "metadata": {},
          "execution_count": 175
        }
      ]
    },
    {
      "cell_type": "code",
      "metadata": {
        "id": "XDL2Jfcbp6hi"
      },
      "source": [
        "# Creating the Bag of Words model\n",
        "from sklearn.feature_extraction.text import TfidfVectorizer\n",
        "tfidf = TfidfVectorizer(max_features=500)\n",
        "vectors = tfidf.fit_transform(corpus).toarray()\n",
        "feature_names = tfidf.get_feature_names_out()\n",
        "\n",
        "# Extracting independent and dependent variables from the dataset\n",
        "X = pd.DataFrame(vectors, columns=feature_names)\n",
        "y = df['label']"
      ],
      "execution_count": null,
      "outputs": []
    },
    {
      "cell_type": "markdown",
      "metadata": {
        "id": "yvo6cT8rrKas"
      },
      "source": [
        "# **Model Building & Evaluation**\n",
        "_**Metric: F1-Score**_\n",
        "\n",
        "* Multinomial Naive Bayes: 0.943\n",
        "* Decision Tree: 0.98\n",
        "* **Random Forest (Ensemble): 0.995**\n",
        "* Voting (Multinomial Naive Bayes + Decision Tree): 0.98\n"
      ]
    },
    {
      "cell_type": "code",
      "metadata": {
        "id": "-GI83Ie5SEak"
      },
      "source": [
        "from sklearn.model_selection import cross_val_score\n",
        "from sklearn.metrics import classification_report, confusion_matrix\n",
        "from sklearn.model_selection import train_test_split"
      ],
      "execution_count": null,
      "outputs": []
    },
    {
      "cell_type": "code",
      "metadata": {
        "id": "kMzc9nvtUgMk"
      },
      "source": [
        "X_train, X_test, y_train, y_test = train_test_split(X, y, test_size=0.2, random_state=42)"
      ],
      "execution_count": null,
      "outputs": []
    },
    {
      "cell_type": "code",
      "metadata": {
        "id": "ZsqsZ6OorYHq",
        "colab": {
          "base_uri": "https://localhost:8080/"
        },
        "outputId": "34a657d9-6c84-4eec-b58c-a6d28dd9c704"
      },
      "source": [
        "# Fitting Naive Bayes to the Training set\n",
        "from sklearn.naive_bayes import MultinomialNB\n",
        "mnb = MultinomialNB()\n",
        "cv = cross_val_score(mnb, X, y, scoring='f1', cv=10)\n",
        "print('--- Average F1-Score for MNB model: {} ---'.format(round(cv.mean(), 3)))\n",
        "print('Standard Deviation: {}'.format(round(cv.std(), 3)))"
      ],
      "execution_count": null,
      "outputs": [
        {
          "output_type": "stream",
          "name": "stdout",
          "text": [
            "--- Average F1-Score for MNB model: 0.943 ---\n",
            "Standard Deviation: 0.004\n"
          ]
        }
      ]
    },
    {
      "cell_type": "code",
      "metadata": {
        "id": "INb9wkThW45r",
        "colab": {
          "base_uri": "https://localhost:8080/"
        },
        "outputId": "a21b8886-bd10-4b78-f05b-120381ffc67c"
      },
      "source": [
        "# Classification report for MNB model\n",
        "mnb = MultinomialNB()\n",
        "mnb.fit(X_train, y_train)\n",
        "y_pred = mnb.predict(X_test)\n",
        "\n",
        "print('--- Classification report for MNB model ---')\n",
        "print(classification_report(y_test, y_pred))"
      ],
      "execution_count": null,
      "outputs": [
        {
          "output_type": "stream",
          "name": "stdout",
          "text": [
            "--- Classification report for MNB model ---\n",
            "              precision    recall  f1-score   support\n",
            "\n",
            "           0       0.94      0.94      0.94       959\n",
            "           1       0.94      0.94      0.94       903\n",
            "\n",
            "    accuracy                           0.94      1862\n",
            "   macro avg       0.94      0.94      0.94      1862\n",
            "weighted avg       0.94      0.94      0.94      1862\n",
            "\n"
          ]
        }
      ]
    },
    {
      "cell_type": "code",
      "metadata": {
        "id": "5bjAauN_XMNN",
        "colab": {
          "base_uri": "https://localhost:8080/"
        },
        "outputId": "46efc60f-f531-48cd-ea36-ab21423437ee"
      },
      "source": [
        "# Confusion matrix of MNB model\n",
        "cm = confusion_matrix(y_test, y_pred)\n",
        "\n",
        "plt.figure(figsize=(8,5))\n",
        "axis_labels = ['ham', 'spam']\n",
        "g = sns.heatmap(data=cm, annot=True, cmap=\"Blues\", xticklabels=axis_labels, yticklabels=axis_labels, fmt='g', cbar_kws={\"shrink\": 0.5})\n",
        "p = plt.xlabel('Actual values')\n",
        "p = plt.ylabel('Predicted values')\n",
        "p = plt.title('--- Confusion Matrix for Multinomial Naive Bayes model ---')"
      ],
      "execution_count": null,
      "outputs": [
        {
          "output_type": "display_data",
          "data": {
            "text/plain": [
              "<Figure size 576x360 with 2 Axes>"
            ],
            "image/png": "[encoded data removed]"
          },
          "metadata": {
            "needs_background": "light"
          }
        }
      ]
    },
    {
      "cell_type": "code",
      "metadata": {
        "id": "rhkwwq3Hb-M-",
        "colab": {
          "base_uri": "https://localhost:8080/"
        },
        "outputId": "46901bc6-5606-4ae7-e069-e5af27330aba"
      },
      "source": [
        "# Fitting Random Forest to the Training set\n",
        "from sklearn.tree import DecisionTreeClassifier\n",
        "dt = DecisionTreeClassifier()\n",
        "cv = cross_val_score(dt, X, y, scoring='f1', cv=10)\n",
        "print('--- Average F1-Score for Decision Tree model: {} ---'.format(round(cv.mean(), 3)))\n",
        "print('Standard Deviation: {}'.format(round(cv.std(), 3)))"
      ],
      "execution_count": null,
      "outputs": [
        {
          "output_type": "stream",
          "name": "stdout",
          "text": [
            "--- Average F1-Score for Decision Tree model: 0.98 ---\n",
            "Standard Deviation: 0.005\n"
          ]
        }
      ]
    },
    {
      "cell_type": "code",
      "metadata": {
        "id": "uFB2qr6YchC-",
        "colab": {
          "base_uri": "https://localhost:8080/"
        },
        "outputId": "daa1a97c-cc2b-4e3f-f9be-4d947f7b678e"
      },
      "source": [
        "# Classification report for Decision Tree model\n",
        "dt = DecisionTreeClassifier()\n",
        "dt.fit(X_train, y_train)\n",
        "y_pred = dt.predict(X_test)\n",
        "\n",
        "print('--- Classification report for Decision Tree model ---')\n",
        "print(classification_report(y_test, y_pred))"
      ],
      "execution_count": null,
      "outputs": [
        {
          "output_type": "stream",
          "name": "stdout",
          "text": [
            "--- Classification report for Decision Tree model ---\n",
            "              precision    recall  f1-score   support\n",
            "\n",
            "           0       1.00      0.97      0.98       959\n",
            "           1       0.97      1.00      0.98       903\n",
            "\n",
            "    accuracy                           0.98      1862\n",
            "   macro avg       0.98      0.98      0.98      1862\n",
            "weighted avg       0.98      0.98      0.98      1862\n",
            "\n"
          ]
        }
      ]
    },
    {
      "cell_type": "code",
      "metadata": {
        "id": "vcNIfLAMc_cN",
        "colab": {
          "base_uri": "https://localhost:8080/"
        },
        "outputId": "e8f1b949-f238-4854-9026-5a16943b0026"
      },
      "source": [
        "# Confusion matrix of Decision Tree model\n",
        "cm = confusion_matrix(y_test, y_pred)\n",
        "\n",
        "plt.figure(figsize=(8,5))\n",
        "axis_labels = ['ham', 'spam']\n",
        "g = sns.heatmap(data=cm, annot=True, cmap=\"Blues\", xticklabels=axis_labels, yticklabels=axis_labels, fmt='g', cbar_kws={\"shrink\": 0.5})\n",
        "p = plt.xlabel('Actual values')\n",
        "p = plt.ylabel('Predicted values')\n",
        "p = plt.title('--- Confusion Matrix for Decision Tree model ---')"
      ],
      "execution_count": null,
      "outputs": [
        {
          "output_type": "display_data",
          "data": {
            "text/plain": [
              "<Figure size 576x360 with 2 Axes>"
            ],
            "image/png": "[encoded data removed]"
          },
          "metadata": {
            "needs_background": "light"
          }
        }
      ]
    },
    {
      "cell_type": "code",
      "metadata": {
        "id": "kOuy-BaLSqd5",
        "colab": {
          "base_uri": "https://localhost:8080/"
        },
        "outputId": "1554910b-9a7f-446b-b11a-1aaece3ab62c"
      },
      "source": [
        "# Fitting Random Forest to the Training set\n",
        "from sklearn.ensemble import RandomForestClassifier\n",
        "rf = RandomForestClassifier(n_estimators=10)\n",
        "cv = cross_val_score(rf, X, y, scoring='f1', cv=10)\n",
        "print('--- Average F1-Score for Random Forest model: {} ---'.format(round(cv.mean(), 3)))\n",
        "print('Standard Deviation: {}'.format(round(cv.std(), 3)))"
      ],
      "execution_count": null,
      "outputs": [
        {
          "output_type": "stream",
          "name": "stdout",
          "text": [
            "--- Average F1-Score for Random Forest model: 0.994 ---\n",
            "Standard Deviation: 0.003\n"
          ]
        }
      ]
    },
    {
      "cell_type": "code",
      "metadata": {
        "id": "F02lOVivsrna",
        "colab": {
          "base_uri": "https://localhost:8080/"
        },
        "outputId": "a5f1efab-dc62-4f29-d8c3-abb004256519"
      },
      "source": [
        "# Classification report for Random Forest model\n",
        "rf = RandomForestClassifier(n_estimators=20)\n",
        "rf.fit(X_train.values, y_train)\n",
        "y_pred = rf.predict(X_test)\n",
        "\n",
        "print('--- Classification report for Random Forest model ---')\n",
        "print(classification_report(y_test, y_pred))"
      ],
      "execution_count": null,
      "outputs": [
        {
          "output_type": "stream",
          "name": "stdout",
          "text": [
            "--- Classification report for Random Forest model ---\n",
            "              precision    recall  f1-score   support\n",
            "\n",
            "           0       1.00      0.99      0.99       959\n",
            "           1       0.99      1.00      0.99       903\n",
            "\n",
            "    accuracy                           0.99      1862\n",
            "   macro avg       0.99      0.99      0.99      1862\n",
            "weighted avg       0.99      0.99      0.99      1862\n",
            "\n"
          ]
        },
        {
          "output_type": "stream",
          "name": "stderr",
          "text": [
            "/usr/local/lib/python3.7/dist-packages/sklearn/base.py:444: UserWarning: X has feature names, but RandomForestClassifier was fitted without feature names\n",
            "  f\"X has feature names, but {self.__class__.__name__} was fitted without\"\n"
          ]
        }
      ]
    },
    {
      "cell_type": "code",
      "metadata": {
        "id": "Q-UL5fUSWL_N",
        "colab": {
          "base_uri": "https://localhost:8080/"
        },
        "outputId": "d628c2ff-3af7-42dc-a41b-f7101b54001b"
      },
      "source": [
        "# Confusion matrix of Random Forest model\n",
        "cm = confusion_matrix(y_test, y_pred)\n",
        "\n",
        "plt.figure(figsize=(8,5))\n",
        "axis_labels = ['ham', 'spam']\n",
        "g = sns.heatmap(data=cm, annot=True, cmap=\"Blues\", xticklabels=axis_labels, yticklabels=axis_labels, fmt='g', cbar_kws={\"shrink\": 0.5})\n",
        "p = plt.xlabel('Actual values')\n",
        "p = plt.ylabel('Predicted values')\n",
        "p = plt.title('--- Confusion Matrix for Random Forest model ---')"
      ],
      "execution_count": null,
      "outputs": [
        {
          "output_type": "display_data",
          "data": {
            "text/plain": [
              "<Figure size 576x360 with 2 Axes>"
            ],
            "image/png": "[encoded data removed]"
          },
          "metadata": {
            "needs_background": "light"
          }
        }
      ]
    },
    {
      "cell_type": "markdown",
      "metadata": {
        "id": "ySKNOiwaop3f"
      },
      "source": [
        "_**Note:** Decision Tree & MNB algorithms are selected and fed to Voting algorithm to increase the F1-Score!_"
      ]
    },
    {
      "cell_type": "code",
      "metadata": {
        "id": "scx5eN7TaE3V",
        "colab": {
          "base_uri": "https://localhost:8080/"
        },
        "outputId": "0e77dd9d-d182-4d36-b6e7-1578ba112264"
      },
      "source": [
        "# Fitting Decision Tree and MNB to VotingClassifier\n",
        "from sklearn.ensemble import VotingClassifier\n",
        "vc = VotingClassifier([('decision_tree', dt), ('m_naive_bayes', mnb)], weights=[2,1])\n",
        "cv = cross_val_score(vc, X, y, cv=10, scoring='f1')\n",
        "\n",
        "print('--- Average F1-Score for VotingClassifier model: {} ---'.format(round(cv.mean(), 3)))\n",
        "print('Standard Deviation: {}'.format(round(cv.std(), 3)))"
      ],
      "execution_count": null,
      "outputs": [
        {
          "output_type": "stream",
          "name": "stdout",
          "text": [
            "--- Average F1-Score for VotingClassifier model: 0.98 ---\n",
            "Standard Deviation: 0.005\n"
          ]
        }
      ]
    },
    {
      "cell_type": "markdown",
      "metadata": {
        "id": "Cy6K6Ps0oKnq"
      },
      "source": [
        "_**Note:** Voting algorithm did not out-perform Random Forest algorithm, hence **Random Forest algorithm is selected for predicting the results of this problem statement.**_\n"
      ]
    },
    {
      "cell_type": "markdown",
      "metadata": {
        "id": "LAtjiTWSuaYD"
      },
      "source": [
        "# **Making Predictions**"
      ]
    },
    {
      "cell_type": "code",
      "metadata": {
        "id": "culehxsLuZ0a"
      },
      "source": [
        "def predict_spam(sample_message):\n",
        "  sample_message = re.sub(pattern='[^a-zA-Z]',repl=' ', string = sample_message)\n",
        "  sample_message = sample_message.lower()\n",
        "  sample_message_words = sample_message.split()\n",
        "  \n",
        "  #removing noise from sample message\n",
        "  check_and_replace(sample_message_words)\n",
        "\n",
        "  sample_message_words = [word for word in sample_message_words if not word in set(stopwords.words('english'))]\n",
        "  final_message = [wnl.lemmatize(word) for word in sample_message_words]\n",
        "  final_message = ' '.join(final_message)\n",
        "\n",
        "  temp = tfidf.transform([final_message]).toarray()\n",
        "  return rf.predict(temp)"
      ],
      "execution_count": null,
      "outputs": []
    },
    {
      "cell_type": "code",
      "source": [
        "sample_message = 'get credit score'\n",
        "\n",
        "if predict_spam(sample_message):\n",
        "  print('Gotcha! This is a SPAM message.')\n",
        "else:\n",
        "  print('This is a HAM (normal) message.')"
      ],
      "metadata": {
        "colab": {
          "base_uri": "https://localhost:8080/"
        },
        "id": "ulgrfKsbeM29",
        "outputId": "6085f9ca-379a-4083-98b1-728bef0f43ad"
      },
      "execution_count": null,
      "outputs": [
        {
          "output_type": "stream",
          "name": "stdout",
          "text": [
            "Gotcha! This is a SPAM message.\n"
          ]
        },
        {
          "output_type": "stream",
          "name": "stderr",
          "text": [
            "/usr/local/lib/python3.7/dist-packages/sklearn/base.py:451: UserWarning: X does not have valid feature names, but MultinomialNB was fitted with feature names\n",
            "  \"X does not have valid feature names, but\"\n"
          ]
        }
      ]
    },
    {
      "cell_type": "code",
      "source": [
        "sample_message = 'get cradit score'\n",
        "\n",
        "if predict_spam(sample_message):\n",
        "  print('Gotcha! This is a SPAM message.')\n",
        "else:\n",
        "  print('This is a HAM (normal) message.')"
      ],
      "metadata": {
        "colab": {
          "base_uri": "https://localhost:8080/"
        },
        "id": "elvKjk3GefJ2",
        "outputId": "84d52df2-3b09-4bef-9d0a-e874c942467c"
      },
      "execution_count": null,
      "outputs": [
        {
          "output_type": "stream",
          "name": "stdout",
          "text": [
            "Gotcha! This is a SPAM message.\n"
          ]
        },
        {
          "output_type": "stream",
          "name": "stderr",
          "text": [
            "/usr/local/lib/python3.7/dist-packages/sklearn/base.py:451: UserWarning: X does not have valid feature names, but MultinomialNB was fitted with feature names\n",
            "  \"X does not have valid feature names, but\"\n"
          ]
        }
      ]
    }
  ]
}